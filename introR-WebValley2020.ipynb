{
 "cells": [
  {
   "cell_type": "markdown",
   "metadata": {},
   "source": [
    "# The R environment and the notebooks\n",
    "(Partly abridged from R Basics: quick (and partial) summary by Giuseppe Jurman)\n",
    "\n",
    "R is an integrated suite of software facilities for data manipulation, calculation and graphical display. Among other things it has\n",
    "\n",
    "* an effective data handling and storage facility,\n",
    "* a suite of operators for calculations on arrays, in particular matrices,\n",
    "* a large, coherent, integrated collection of intermediate tools for data analysis,\n",
    "* graphical facilities for data analysis and display either directly at the computer or on hardcopy\n",
    "\n",
    "\n",
    "The term “environment” is intended to characterize it as a fully planned and coherent system, rather than an incremental accretion of very specific and inflexible tools, as is frequently the case with other data analysis software.\n",
    "\n",
    "\n",
    "R consists of a core engine, plus additional *packages* available either at a [CRAN](https://cran.r-project.org/mirrors.html) mirror or at the respective developer's site\n",
    "Packages can be installed either through the RStudio interface or using the R command *install.packages()*.\n",
    "Also help can be accessed via the RStudio interface, or by the command *?*.\n",
    "\n",
    "In this course we will use R via Jupiter notebook.\n",
    "\n",
    "Also exist RStudio (https://www.rstudio.com/) , an integrated development environment (IDE). It permits to create [R notebooks (https://bookdown.org/yihui/rmarkdown/notebook.html)  mixing *markdown* text and R code *chunks* can can be executed inline, producing a final report (*e.g.* in HTML or PDF, or even [slides](https://bookdown.org/yihui/rmarkdown/ioslides-presentation.html)) including text, code and code output.\n",
    "\n",
    "The text is written in a dialect of the [markdown](https://en.wikipedia.org/wiki/Markdown) language, a lightweight markup language with plain text formatting syntax easily convertible in many output formats. In particular, R adopts the [Pandoc](https://pandoc.org/) version, which is one of the most comprehensive. The [quick guide](https://bookdown.org/yihui/rmarkdown/markdown-syntax.html) to the R markdown syntax can be of help, together with this practical [cheatsheet](https://www.rstudio.com/wp-content/uploads/2015/02/rmarkdown-cheatsheet.pdf). \n"
   ]
  },
  {
   "cell_type": "markdown",
   "metadata": {},
   "source": [
    "# Workspace\n",
    "The entities that R creates and manipulates are known as objects. These may be variables, arrays of numbers, character strings, functions, or more general structures built from such components.\n",
    "For example, we can create an object call _test_. (later we discuss better all type of object)"
   ]
  },
  {
   "cell_type": "code",
   "execution_count": null,
   "metadata": {},
   "outputs": [],
   "source": [
    "test<-(\"Hello\")\n",
    "test"
   ]
  },
  {
   "cell_type": "markdown",
   "metadata": {},
   "source": [
    "During an R session, objects are created and stored by name.\n",
    "To display the names of (most of) the objects which are currently stored within R we can use one of the two following commands:"
   ]
  },
  {
   "cell_type": "code",
   "execution_count": null,
   "metadata": {},
   "outputs": [],
   "source": [
    "objects()\n",
    "ls()"
   ]
  },
  {
   "cell_type": "markdown",
   "metadata": {},
   "source": [
    "To remove objects the function rm is available:"
   ]
  },
  {
   "cell_type": "code",
   "execution_count": null,
   "metadata": {},
   "outputs": [],
   "source": [
    "rm(test)"
   ]
  },
  {
   "cell_type": "markdown",
   "metadata": {},
   "source": [
    "All objects created during an R session can be stored permanently in a file for use in future R sessions. At the end of each R session you are given the opportunity to save all the currently available objects. If you indicate that you want to do this, the objects are written to a file called .RData6 in the current directory, and the command lines used in the session are saved to a file called .Rhistory.\n",
    "\n",
    "When R is started at later time from the same directory it reloads the workspace from this file. At the same time the associated commands history is reloaded.\n",
    "\n",
    "*Red Flags!!* it is recommended that you should use separate working directories for analyses conducted with R. It is quite common for objects with names x and y to be created during an analysis. Names like this are often meaningful in the context of a single analysis, but it can be quite hard to decide what they might be when the several analyses have been conducted in the same directory.\n"
   ]
  },
  {
   "cell_type": "markdown",
   "metadata": {},
   "source": [
    "# Objects\n",
    "## Vectors\n",
    "R operates on named data structures. The simplest  structure is the numeric vector, which is a single entity consisting of an ordered collection of numbers. \n",
    "For examples, we want to set up a vector named x, say, consisting of five numbers, namely 10.4, 5.6, 3.1, 6.4 and 21.7. We can use one of the following R command:"
   ]
  },
  {
   "cell_type": "code",
   "execution_count": null,
   "metadata": {},
   "outputs": [],
   "source": [
    "x <- c(10.4, 5.6, 3.1, 6.4, 21.7)\n",
    "print(x)"
   ]
  },
  {
   "cell_type": "code",
   "execution_count": null,
   "metadata": {},
   "outputs": [],
   "source": [
    "assign(\"a\", c(10.4, 5.6, 3.1, 6.4, 21.7))"
   ]
  },
  {
   "cell_type": "code",
   "execution_count": null,
   "metadata": {},
   "outputs": [],
   "source": [
    "b = c(10.4, 5.6, 3.1, 6.4, 21.7)"
   ]
  },
  {
   "cell_type": "code",
   "execution_count": null,
   "metadata": {},
   "outputs": [],
   "source": [
    "print(x)\n",
    "print(a)\n",
    "print(b)"
   ]
  },
  {
   "cell_type": "markdown",
   "metadata": {},
   "source": [
    "This is a combination of 2 parts: \n",
    "\n",
    "-The function c() \n",
    "\n",
    "-The assignment operator (‘<-’) \n",
    "\n",
    "The function **c()** in this context can take an arbitrary number of vector arguments and whose value is a vector got by concatenating its arguments end to end.\n",
    "\n",
    "The assignment operator '**<-**', which consists of the two characters ‘<’ (“less than”) and ‘-’ (“minus”) occurring strictly side-by-side and it ‘points’ to the object receiving the value of the expression. \n",
    "\n",
    "Assignments can also be made in the other direction, using the obvious change in the assignment operator. So the same assignment could be made using:"
   ]
  },
  {
   "cell_type": "code",
   "execution_count": null,
   "metadata": {},
   "outputs": [],
   "source": [
    "c(10.4, 5.6, 3.1, 6.4, 21.7) -> d\n",
    "print(d)"
   ]
  },
  {
   "cell_type": "markdown",
   "metadata": {},
   "source": [
    "In general the usual operator, **<-**, can be thought of as a syntactic short-cut to this.\n"
   ]
  },
  {
   "cell_type": "markdown",
   "metadata": {},
   "source": [
    "If an expression is used as a complete command, the value is printed and **lost**. So now if we were to use the command"
   ]
  },
  {
   "cell_type": "code",
   "execution_count": null,
   "metadata": {},
   "outputs": [],
   "source": [
    "1/x"
   ]
  },
  {
   "cell_type": "markdown",
   "metadata": {},
   "source": [
    "the reciprocals of the five values would be printed at the terminal (and the value of x, of course, unchanged).\n",
    "\n",
    "The further assignment:"
   ]
  },
  {
   "cell_type": "code",
   "execution_count": null,
   "metadata": {},
   "outputs": [],
   "source": [
    "y <- c(x, 0, x)\n",
    "print(y)"
   ]
  },
  {
   "cell_type": "markdown",
   "metadata": {},
   "source": [
    "would create a vector y with 11 entries consisting of two copies of x with a zero in the middle place.\n",
    "\n",
    "Vectors can be used in arithmetic expressions, in which case the operations are performed element by element. Vectors occurring in the same expression need not all be of the same length. If they are not, the value of the expression is a vector with the same length as the longest vector which occurs in the expression. Shorter vectors in the expression are recycled as often as need be (perhaps fractionally) until they match the length of the longest vector, issuing a warning. In particular a constant is simply repeated. So with the above assignments the command"
   ]
  },
  {
   "cell_type": "code",
   "execution_count": null,
   "metadata": {},
   "outputs": [],
   "source": [
    "v <- 2*x + y + 1\n",
    "v"
   ]
  },
  {
   "cell_type": "markdown",
   "metadata": {},
   "source": [
    "generates a new vector v of length 11 constructed by adding together, element by element, 2*x repeated 2.2 times, y repeated just once, and 1 repeated 11 times.  "
   ]
  },
  {
   "cell_type": "markdown",
   "metadata": {},
   "source": [
    "The elementary arithmetic operators are the usual +, -, \\*, / and ^ for raising to a power. In addition all of the common arithmetic functions are available. *log, exp, sin, cos, tan, sqrt*, and so on, all have their usual meaning. *max()* and *min()* select the largest and smallest elements of a vector respectively. *range()* is a function whose value is a vector of length two, namely *c(min(x), max(x)).*"
   ]
  },
  {
   "cell_type": "code",
   "execution_count": null,
   "metadata": {},
   "outputs": [],
   "source": [
    "min(x)\n",
    "max(x)\n",
    "range(x)"
   ]
  },
  {
   "cell_type": "markdown",
   "metadata": {},
   "source": [
    "Note that *max* and *min* select the largest and smallest values in their arguments, even if they are given several vectors. The parallel maximum and minimum functions *pmax()* and *pmin()* return a vector (of length equal to their longest argument) that contains in each element the largest (smallest) element in that position in any of the input vectors."
   ]
  },
  {
   "cell_type": "code",
   "execution_count": null,
   "metadata": {},
   "outputs": [],
   "source": [
    "max(x,y)\n",
    "pmax(x,y)"
   ]
  },
  {
   "cell_type": "markdown",
   "metadata": {},
   "source": [
    "*length(x)* is the number of elements in *x*, "
   ]
  },
  {
   "cell_type": "code",
   "execution_count": null,
   "metadata": {},
   "outputs": [],
   "source": [
    "length(x)"
   ]
  },
  {
   "cell_type": "markdown",
   "metadata": {},
   "source": [
    "*sum(x)* gives the total of the elements in *x*, and *prod(x)* their product."
   ]
  },
  {
   "cell_type": "code",
   "execution_count": null,
   "metadata": {},
   "outputs": [],
   "source": [
    "sum(x)\n",
    "prod(x)"
   ]
  },
  {
   "cell_type": "markdown",
   "metadata": {},
   "source": [
    "Two statistical functions are *mean(x)* which calculates the sample mean, which is the same as *sum(x)/length(x)*, and *var(x)* which gives the sample variance, i.e.\n",
    "sum((x-mean(x))^2)/(length(x)-1)"
   ]
  },
  {
   "cell_type": "markdown",
   "metadata": {},
   "source": [
    "*sort(x)* returns a vector of the same size as x with the elements arranged in increasing order; however there are other more flexible sorting facilities available."
   ]
  },
  {
   "cell_type": "code",
   "execution_count": null,
   "metadata": {},
   "outputs": [],
   "source": [
    "sort(x)"
   ]
  },
  {
   "cell_type": "markdown",
   "metadata": {},
   "source": [
    "### missing values\n",
    "In some cases the components of a vector may not be completely known. When an element or value is “not available” or a “missing value” in the statistical sense, a place within a vector may be reserved for it by assigning it the special value NA. In general any operation on an NA becomes an NA. The motivation for this rule is simply that if the specification of an operation is incomplete, the result cannot be known and hence is not available.\n",
    "\n",
    "\n",
    "The function *is.na(x)* gives a logical vector of the same size as x with value TRUE if and only if the corresponding element in x is NA.\n"
   ]
  },
  {
   "cell_type": "code",
   "execution_count": null,
   "metadata": {},
   "outputs": [],
   "source": [
    "x <- c(1,-2,3,NA,NA,6,7,8,9,10)\n"
   ]
  },
  {
   "cell_type": "code",
   "execution_count": null,
   "metadata": {},
   "outputs": [],
   "source": [
    "is.na(x)"
   ]
  },
  {
   "cell_type": "code",
   "execution_count": null,
   "metadata": {},
   "outputs": [],
   "source": [
    "y <- x[!is.na(x)]\n",
    "print(y)"
   ]
  },
  {
   "cell_type": "markdown",
   "metadata": {},
   "source": [
    "## Character vectors\n",
    "Character quantities and character vectors are used frequently in R, for example as plot labels. Where needed they are denoted by a sequence of characters delimited by the double quote character, *e.g.,* \"x-values\", \"New iteration results\".\n",
    "\n",
    "Character strings are entered using either matching double (\") or single (') quotes, but are printed using double quotes (or sometimes without quotes). \n",
    "\n",
    "Character vectors may be concatenated into a vector by the *c()* function; "
   ]
  },
  {
   "cell_type": "code",
   "execution_count": null,
   "metadata": {},
   "outputs": [],
   "source": [
    "label <- c(\"X\", \"Y\")\n",
    "label"
   ]
  },
  {
   "cell_type": "markdown",
   "metadata": {},
   "source": [
    "## Index vectors & slicing\n",
    "**WARNING** *In R, indexing starts from 1 (not from 0 as in C/Python)*\n",
    "\n",
    "Subsets of the elements of a vector may be selected by appending to the name of the vector an index vector in square brackets. More generally any expression that evaluates to a vector may have subsets of its elements similarly selected by appending an index vector in square brackets immediately after the expression.\n"
   ]
  },
  {
   "cell_type": "markdown",
   "metadata": {},
   "source": [
    "Such index vectors can be any of four distinct types.\n",
    "\n",
    "* **A logical vector**  Values corresponding to TRUE in the index vector are selected and those corresponding to FALSE are omitted. For example\n",
    "\n"
   ]
  },
  {
   "cell_type": "code",
   "execution_count": null,
   "metadata": {},
   "outputs": [],
   "source": [
    "x <- c(-1,-2,3,4,NA,NA,7,8,9,10)\n",
    "y <- x[!is.na(x)]\n",
    "print(y)"
   ]
  },
  {
   "cell_type": "markdown",
   "metadata": {},
   "source": [
    "creates (or re-creates) an object y which will contain the non-missing values of x, in the same order. Note that if x has missing values, y will be shorter than x. "
   ]
  },
  {
   "cell_type": "markdown",
   "metadata": {},
   "source": [
    "* **A vector of positive integral quantities** In this case the values in the index vector must lie in the set {1, 2, …, length(x)}. The corresponding elements of the vector are selected and concatenated, in that order, in the result. The index vector can be of any length and the result is of the same length as the index vector. Some examples:\n",
    "\n"
   ]
  },
  {
   "cell_type": "code",
   "execution_count": null,
   "metadata": {},
   "outputs": [],
   "source": [
    "x[6]\n",
    "\n",
    "x[1:10]"
   ]
  },
  {
   "cell_type": "markdown",
   "metadata": {},
   "source": [
    "The first command select the sixth component of x .\n",
    "\n",
    "The second command selects the first 10 elements of x.\n"
   ]
  },
  {
   "cell_type": "markdown",
   "metadata": {},
   "source": [
    "* **A vector of negative integral quantities** Such an index vector specifies the values to be excluded rather than included. Thus\n"
   ]
  },
  {
   "cell_type": "code",
   "execution_count": null,
   "metadata": {},
   "outputs": [],
   "source": [
    "x[-(1:5)]"
   ]
  },
  {
   "cell_type": "markdown",
   "metadata": {},
   "source": [
    "* **A vector of character strings**. This possibility only applies where an object has a names attribute to identify its components. In this case a sub-vector of the names vector may be used in the same way as the positive integral labels in item 2 further above."
   ]
  },
  {
   "cell_type": "code",
   "execution_count": null,
   "metadata": {},
   "outputs": [],
   "source": [
    "fruit <- c(5, 10, 1, 20)\n",
    "names(fruit) <- c(\"orange\", \"banana\", \"apple\", \"peach\")\n",
    "lunch <- fruit[c(\"apple\",\"orange\")]\n",
    "print(lunch)"
   ]
  },
  {
   "cell_type": "markdown",
   "metadata": {},
   "source": [
    "The advantage is that alphanumeric names are often easier to remember than numeric indices. This option is particularly useful in connection with data frames, as we shall see later."
   ]
  },
  {
   "cell_type": "markdown",
   "metadata": {},
   "source": [
    "An indexed expression can also appear on the receiving end of an assignment, in which case the assignment operation is performed only on those elements of the vector. The expression must be of the form vector[index_vector] as having an arbitrary expression in place of the vector name does not make much sense here.For example, for replaces any missing values in x by zeros we can do something like that. "
   ]
  },
  {
   "cell_type": "code",
   "execution_count": null,
   "metadata": {},
   "outputs": [],
   "source": [
    "x[is.na(x)] <- 0\n",
    "print(x)"
   ]
  },
  {
   "cell_type": "markdown",
   "metadata": {},
   "source": [
    "## Factors\n",
    "A factor is a vector object used to specify a discrete classification (grouping) of the components of other vectors of the same length. R provides both ordered and unordered factors.\n",
    "\n",
    "Suppose, for example, we have a sample of 30 tax accountants from all the states and territories of Australia and their individual state of origin is specified by a character vector of statesaved as "
   ]
  },
  {
   "cell_type": "code",
   "execution_count": null,
   "metadata": {},
   "outputs": [],
   "source": [
    "state <- c(\"tas\", \"sa\",  \"qld\", \"nsw\", \"nsw\", \"nt\",  \"wa\",  \"wa\",\n",
    "             \"qld\", \"vic\", \"nsw\", \"vic\", \"qld\", \"qld\", \"sa\",  \"tas\",\n",
    "             \"sa\",  \"nt\",  \"wa\",  \"vic\", \"qld\", \"nsw\", \"nsw\", \"wa\",\n",
    "             \"sa\",  \"act\", \"nsw\", \"vic\", \"vic\", \"act\")\n",
    "print(state)"
   ]
  },
  {
   "cell_type": "markdown",
   "metadata": {},
   "source": [
    "For trasform this vector in a factor we can use the factor() function. The print() function handles factors slightly differently from other objects:"
   ]
  },
  {
   "cell_type": "code",
   "execution_count": null,
   "metadata": {},
   "outputs": [],
   "source": [
    "statef <- factor(state)\n",
    "print(statef)"
   ]
  },
  {
   "cell_type": "markdown",
   "metadata": {},
   "source": [
    "To find out the levels of a factor the function levels() can be used."
   ]
  },
  {
   "cell_type": "code",
   "execution_count": null,
   "metadata": {},
   "outputs": [],
   "source": [
    "levels(statef)"
   ]
  },
  {
   "cell_type": "markdown",
   "metadata": {},
   "source": [
    "The levels of factors are stored in alphabetical order, or in the order they were specified to factor if they were specified explicitly."
   ]
  },
  {
   "cell_type": "markdown",
   "metadata": {},
   "source": [
    "Sometimes the levels will have a natural ordering that we want to record and want our statistical analysis to make use of. The *ordered()* function creates such ordered factors but is otherwise identical to factor. \n",
    "\n",
    "Recall that a factor defines a partition into groups. Similarly a pair of factors defines a two way cross classification, and so on. \n",
    "\n",
    "The function table() allows frequency tables to be calculated from equal length factors. If there are k factor arguments, the result is a k-way array of frequencies.\n",
    "Suppose, for example, that statef is a factor giving the state code for each entry in a data vector. The assignment gives in *statefr* a table of frequencies of each state in the sample. The frequencies are ordered and labelled by the levels attribute of the factor. "
   ]
  },
  {
   "cell_type": "code",
   "execution_count": null,
   "metadata": {},
   "outputs": [],
   "source": [
    "statefr <- table(statef)\n",
    "print(statefr)"
   ]
  },
  {
   "cell_type": "markdown",
   "metadata": {},
   "source": [
    "## Array\n",
    "An array can be considered as a multiply subscripted collection of data entries, for example numeric. R allows simple facilities for creating and handling arrays, and in particular the special case of matrices.\n",
    "\n",
    "A dimension vector is a vector of non-negative integers. If its length is k then the array is k-dimensional, *e.g.*, a matrix is a 2-dimensional array. The dimensions are indexed from one up to the values given in the dimension vector.\n",
    "\n",
    "A vector can be used by R as an array only if it has a dimension vector as its dim attribute. For any array, the dimension vector may be referenced explicitly as *dim(Z)*\n",
    "\n",
    "Suppose, for example, z is a vector of 60 elements. "
   ]
  },
  {
   "cell_type": "code",
   "execution_count": null,
   "metadata": {},
   "outputs": [],
   "source": [
    "z <- seq(1,60)\n",
    "z"
   ]
  },
  {
   "cell_type": "markdown",
   "metadata": {},
   "source": [
    "The following command gives it the dim attribute that allows it to be treated as a 3 by 5 by 4 array."
   ]
  },
  {
   "cell_type": "code",
   "execution_count": null,
   "metadata": {},
   "outputs": [],
   "source": [
    "dim(z) <- c(3,5,4)\n",
    "print(z)"
   ]
  },
  {
   "cell_type": "markdown",
   "metadata": {},
   "source": [
    "\n",
    "Individual elements of an array may be referenced by giving the name of the array followed by the subscripts in square brackets, separated by commas.\n",
    "\n",
    "More generally, subsections of an array may be specified by giving a sequence of index vectors in place of subscripts; however if any index position is given an empty index vector, then the full range of that subscript is taken.\n",
    "\n",
    "An easy example\n",
    "\n",
    "In the case of a doubly indexed array, an index matrix may be given consisting of two columns and as many rows as desired. The entries in the index matrix are the row and column indices for the doubly indexed array. Suppose for example we have a 4 by 5 array X and we wish to do the following:\n",
    "\n",
    "* Extract elements X[1,3], X[2,2] and X[3,1] as a vector structure, and\n",
    "* Replace these entries in the array X by zeroes.\n",
    "\n",
    "First, let's generate a 4-by-5 array."
   ]
  },
  {
   "cell_type": "code",
   "execution_count": null,
   "metadata": {},
   "outputs": [],
   "source": [
    "z <- array(1:20, dim=c(4,5))   \n",
    "print(z)"
   ]
  },
  {
   "cell_type": "markdown",
   "metadata": {},
   "source": [
    "Second, we generate a 3 by 2 array that contains the indexes of the elements we want to extrac. \n",
    "Index matrices must be numerical: any other form of matrix (*e.g.*, a logical or character matrix) supplied as a matrix is treated as an indexing vector.\n"
   ]
  },
  {
   "cell_type": "code",
   "execution_count": null,
   "metadata": {},
   "outputs": [],
   "source": [
    "i <- array(c(1:3,3:1), dim=c(3,2))\n",
    "print(i) "
   ]
  },
  {
   "cell_type": "code",
   "execution_count": null,
   "metadata": {},
   "outputs": [],
   "source": [
    "z[i]"
   ]
  },
  {
   "cell_type": "code",
   "execution_count": null,
   "metadata": {},
   "outputs": [],
   "source": [
    "z[1,]"
   ]
  },
  {
   "cell_type": "markdown",
   "metadata": {},
   "source": [
    "Finally, replace those elements by zeros."
   ]
  },
  {
   "cell_type": "code",
   "execution_count": null,
   "metadata": {},
   "outputs": [],
   "source": [
    "z[i] <- 0                 \n",
    "print(z)"
   ]
  },
  {
   "cell_type": "markdown",
   "metadata": {},
   "source": [
    "As well as giving a vector structure a dim attribute, arrays can be constructed from vectors by the array function, which has the form"
   ]
  },
  {
   "cell_type": "code",
   "execution_count": null,
   "metadata": {},
   "outputs": [],
   "source": [
    "x"
   ]
  },
  {
   "cell_type": "code",
   "execution_count": null,
   "metadata": {},
   "outputs": [],
   "source": [
    "dim_vector <- c(5,2)\n",
    "dim_vector "
   ]
  },
  {
   "cell_type": "code",
   "execution_count": null,
   "metadata": {},
   "outputs": [],
   "source": [
    "w <- array(x, dim=dim_vector)\n",
    "print(w)"
   ]
  },
  {
   "cell_type": "markdown",
   "metadata": {},
   "source": [
    "If x is shorter than dimension, its values are recycled from the beginning again to make it up to right size. \n",
    "Let's see"
   ]
  },
  {
   "cell_type": "code",
   "execution_count": null,
   "metadata": {},
   "outputs": [],
   "source": [
    "dim_vector <- c(4,5)"
   ]
  },
  {
   "cell_type": "code",
   "execution_count": null,
   "metadata": {},
   "outputs": [],
   "source": [
    "w <- array(x, dim=dim_vector)\n",
    "print(w)"
   ]
  },
  {
   "cell_type": "markdown",
   "metadata": {},
   "source": [
    "Arrays may be used in arithmetic expressions and the result is an array formed by element-by-element operations on the data vector. The dim attributes of operands generally need to be the same, and this becomes the dimension vector of the result."
   ]
  },
  {
   "cell_type": "code",
   "execution_count": null,
   "metadata": {},
   "outputs": [],
   "source": [
    "A<-w+z\n",
    "A"
   ]
  },
  {
   "cell_type": "markdown",
   "metadata": {},
   "source": [
    "The function *t()* return the transpose of A"
   ]
  },
  {
   "cell_type": "code",
   "execution_count": null,
   "metadata": {},
   "outputs": [],
   "source": [
    "B <- t(A)\n",
    "B"
   ]
  },
  {
   "cell_type": "markdown",
   "metadata": {},
   "source": [
    "The meaning of *diag()* depends on its argument:\n",
    "\n",
    "* *diag(v)*, where v is a vector, gives a diagonal matrix with elements of the vector as the diagonal entries\n",
    "* *diag(M)*, where M is a matrix, gives the vector of main diagonal entries of M\n",
    "* if k is a single numeric value then *diag(k)* is the k by k identity matrix\n",
    "\n",
    "Matrices can also be built up from other vectors and matrices by the functions *cbind()* and *rbind()*. Roughly *cbind()() forms matrices by binding together matrices horizontally, or column-wise, and *rbind()* vertically, or row-wise."
   ]
  },
  {
   "cell_type": "code",
   "execution_count": null,
   "metadata": {},
   "outputs": [],
   "source": [
    "diag(x[1:4])"
   ]
  },
  {
   "cell_type": "code",
   "execution_count": null,
   "metadata": {},
   "outputs": [],
   "source": [
    "diag(B)"
   ]
  },
  {
   "cell_type": "code",
   "execution_count": null,
   "metadata": {},
   "outputs": [],
   "source": [
    "diag(5)"
   ]
  },
  {
   "cell_type": "markdown",
   "metadata": {},
   "source": [
    "Matrices can also be built up from other vectors and matrices by the functions *cbind()* and *rbind()*. Roughly *cbind()* forms matrices by binding together matrices horizontally, or column-wise, and *rbind()* vertically, or row-wise.\n",
    "\n",
    "\n",
    "The arguments to *cbind()* must be either vectors of any length, or matrices with the same column size, that is the same number of rows. The result is a matrix with the concatenated arguments arg_1, arg_2, … forming the columns.\n",
    "\n",
    "If some of the arguments to *cbind()* are vectors they may be shorter than the column size of any matrices present, in which case they are cyclically extended to match the matrix column size (or the length of the longest vector if no matrices are given)."
   ]
  },
  {
   "cell_type": "code",
   "execution_count": null,
   "metadata": {},
   "outputs": [],
   "source": [
    "f <- c(3,7,5)\n",
    "C <- cbind(x,1, f)\n",
    "C"
   ]
  },
  {
   "cell_type": "markdown",
   "metadata": {},
   "source": [
    "The function *rbind()* does the corresponding operation for rows. In this case any vector argument, possibly cyclically extended, are of course taken as row vectors."
   ]
  },
  {
   "cell_type": "code",
   "execution_count": null,
   "metadata": {},
   "outputs": [],
   "source": [
    "R <- rbind(1, B, f)\n",
    "R"
   ]
  },
  {
   "cell_type": "markdown",
   "metadata": {},
   "source": [
    "The result of *rbind()* or *cbind()* always has matrix status. Hence *cbind(x)* and *rbind(x)* are possibly the simplest ways explicitly to allow the vector x to be treated as a column or row matrix respectively.\n",
    "\n",
    "The official way to coerce an array back to a simple vector object is to use *as.vector()*"
   ]
  },
  {
   "cell_type": "code",
   "execution_count": null,
   "metadata": {},
   "outputs": [],
   "source": [
    "vec <- as.vector(R)\n",
    "vec"
   ]
  },
  {
   "cell_type": "markdown",
   "metadata": {},
   "source": [
    "## Lists\n",
    "An R list is an object consisting of an ordered collection of objects known as its components.\n",
    "\n",
    "There is no particular need for the components to be of the same mode or type, and, for example, a list could consist of a numeric vector, a logical value, a matrix, a complex vector, a character array, a function, and so on. Here is a simple example of how to make a list:\n"
   ]
  },
  {
   "cell_type": "code",
   "execution_count": null,
   "metadata": {},
   "outputs": [],
   "source": [
    "Lst <- list(name=\"Fred\", wife=\"Mary\", no.children=3, child.ages=c(5,7,10))\n",
    "print(Lst)"
   ]
  },
  {
   "cell_type": "markdown",
   "metadata": {},
   "source": [
    "Components are always numbered and may always be referred to as such. Thus if Lst is the name of a list with four components, these may be individually referred to as *Lst[[1]], Lst[[2]], Lst[[3]]* and *Lst[[4]]*. If, further, *Lst[[4]]* is a vector subscripted array then *Lst[[4]][1]* is its first entry."
   ]
  },
  {
   "cell_type": "code",
   "execution_count": null,
   "metadata": {},
   "outputs": [],
   "source": [
    "Lst[[1]]\n",
    "Lst[[4]][1]"
   ]
  },
  {
   "cell_type": "markdown",
   "metadata": {},
   "source": [
    "If Lst is a list, then the function *length(Lst)* gives the number of (top level) components it has."
   ]
  },
  {
   "cell_type": "code",
   "execution_count": null,
   "metadata": {},
   "outputs": [],
   "source": [
    "print(length(Lst))"
   ]
  },
  {
   "cell_type": "markdown",
   "metadata": {},
   "source": [
    "Components of lists may also be named, and in this case the component may be referred to either by giving the component name as a character string in place of the number in double square brackets, or, more conveniently, by giving an expression of the form *name$component_name* for the same thing.\n",
    "\n",
    "This is a very useful convention as it makes it easier to get the right component if you forget the number."
   ]
  },
  {
   "cell_type": "code",
   "execution_count": null,
   "metadata": {},
   "outputs": [],
   "source": [
    "Lst$name\n",
    "Lst$child.ages[1]"
   ]
  },
  {
   "cell_type": "markdown",
   "metadata": {},
   "source": [
    "Additionally, one can also use the names of the list components in double square brackets, *i.e., Lst[[\"name\"]]* is the same as *Lst$name*. This is especially useful, when the name of the component to be extracted is stored in another variable as in"
   ]
  },
  {
   "cell_type": "code",
   "execution_count": null,
   "metadata": {},
   "outputs": [],
   "source": [
    "n <- \"name\"\n",
    "Lst[[n]]"
   ]
  },
  {
   "cell_type": "markdown",
   "metadata": {},
   "source": [
    "It is very important to distinguish *Lst[[1]]* from *Lst[1]*. \n",
    "\n",
    "* *[[…]]* is the operator used to select a single element, thus *Lst[[1]]* is the first object in the list Lst, and if it is a named list the name is not included;\n",
    "* *[…]* is a *general* subscripting operator, so *Lst[1]* is a sublist of the list Lst consisting of the first entry only and if it is a named list, the names are transferred to the sublist.\n",
    "\n",
    "The names of components may be abbreviated down to the minimum number of letters needed to identify them uniquely. Thus *Lst\\$coefficients* may be minimally specified as *Lst\\$coe* and *Lst\\$covariance* as *Lst\\$cov*: the vector of names is in fact simply an attribute of the list like any other and may be handled as such. Other structures besides lists may, of course, similarly be given a names attribute also."
   ]
  },
  {
   "cell_type": "code",
   "execution_count": null,
   "metadata": {},
   "outputs": [],
   "source": [
    "Lst[[1]]\n",
    "Lst[1]"
   ]
  },
  {
   "cell_type": "markdown",
   "metadata": {},
   "source": [
    "New lists may be formed from existing objects by the function *list()*. An assignment of the form"
   ]
  },
  {
   "cell_type": "code",
   "execution_count": null,
   "metadata": {},
   "outputs": [],
   "source": [
    "Lst2 <- list(name_1=x, name_2=z, name3=statef)\n",
    "Lst2"
   ]
  },
  {
   "cell_type": "markdown",
   "metadata": {},
   "source": [
    "When the concatenation function *c()* is given list arguments, the result is an object of mode list also, whose components are those of the argument lists joined together in sequence."
   ]
  },
  {
   "cell_type": "code",
   "execution_count": null,
   "metadata": {},
   "outputs": [],
   "source": [
    "list.ABC <- c(Lst, Lst2)\n",
    "list.ABC"
   ]
  },
  {
   "cell_type": "markdown",
   "metadata": {},
   "source": [
    "Recall that with vector objects as arguments the concatenation function similarly joined together all arguments into a single vector structure. In this case all other attributes, such as dim attributes, are discarded."
   ]
  },
  {
   "cell_type": "markdown",
   "metadata": {},
   "source": [
    "\n",
    "## Data frames\n",
    "A data frame is a list with class \"data.frame\". There are restrictions on lists that may be made into data frames, namely:\n",
    "\n",
    "* the components must be vectors (numeric, character, or logical), factors, numeric matrices, lists, or other data frame;\n",
    "* matrices, lists, and data frames provide as many variables to the new data frame as they have columns, elements, or variables, respectively;\n",
    "* numeric vectors, logicals and factors are included as is, and by default18 character vectors are coerced to be factors, whose levels are the unique values appearing in the vector;\n",
    "* vector structures appearing as variables of the data frame must all have the same length, and matrix structures must all have the same row size.\n",
    "\n",
    "A data frame may for many purposes be regarded as a matrix with columns possibly of differing modes and attributes. It may be displayed in matrix form, and its rows and columns extracted using matrix indexing conventions.\n",
    "\n",
    "Objects satisfying the restrictions placed on the columns (components) of a data frame may be used to form one using the function data.frame:"
   ]
  },
  {
   "cell_type": "code",
   "execution_count": null,
   "metadata": {},
   "outputs": [],
   "source": [
    "incomes <- c(60, 49, 40, 61, 64, 60, 59, 54, 62, 69, 70, 42, 56,\n",
    "               61, 61, 61, 58, 51, 48, 65, 49, 49, 41, 48, 52, 46,\n",
    "               59, 46, 58, 43)\n",
    "accountants <- data.frame(home=statef, loot=incomes)\n",
    "print(accountants)"
   ]
  },
  {
   "cell_type": "markdown",
   "metadata": {},
   "source": [
    "The simplest way to construct a data frame from scratch is to read an entire data frame (table) from an external file."
   ]
  },
  {
   "cell_type": "markdown",
   "metadata": {},
   "source": [
    "# Read data from files\n",
    "Large data objects will usually be read as values from external files rather than entered during an R session at the keyboard. \n",
    "\n",
    "If variables are to be held mainly in data frames, as we strongly suggest they should be, an entire data frame can be read directly with the read.table() function. There is also a more primitive input function, scan(), that can be called directly.\n",
    "\n",
    "To read an entire data frame directly, the external file will normally have a special form.\n",
    "\n",
    "* The first line of the file should have a name for each variable in the data frame.\n",
    "* Each additional line of the file has as its first item a row label and the values for each variable.\n"
   ]
  },
  {
   "cell_type": "markdown",
   "metadata": {},
   "source": [
    "By default numeric items (except row labels) are read as numeric variables and non-numeric variables as factors. This can be changed if necessary.\n",
    "\n",
    "The functions *read.table()* and *read.csv()* can then be used to read the data frame directly"
   ]
  },
  {
   "cell_type": "code",
   "execution_count": null,
   "metadata": {},
   "outputs": [],
   "source": [
    "HousePrice <- read.csv(\"channing.csv\", header=TRUE)\n",
    "HousePrice"
   ]
  },
  {
   "cell_type": "code",
   "execution_count": null,
   "metadata": {},
   "outputs": [],
   "source": [
    "write.table(HousePrice, file=\"channing.txt\", quote=T, sep=\" \", dec=\".\", na=\"NA\", row.names=F, col.names=T)"
   ]
  },
  {
   "cell_type": "code",
   "execution_count": null,
   "metadata": {},
   "outputs": [],
   "source": [
    "HousePrice_txt <- read.table(\"channing.txt\", header=TRUE)\n",
    "HousePrice_txt"
   ]
  }
 ],
 "metadata": {
  "kernelspec": {
   "display_name": "R",
   "language": "R",
   "name": "ir"
  },
  "language_info": {
   "codemirror_mode": "r",
   "file_extension": ".r",
   "mimetype": "text/x-r-source",
   "name": "R",
   "pygments_lexer": "r",
   "version": "3.6.3"
  }
 },
 "nbformat": 4,
 "nbformat_minor": 4
}
