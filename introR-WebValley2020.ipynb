{
 "cells": [
  {
   "cell_type": "markdown",
   "metadata": {},
   "source": [
    "# The R environment and the notebooks\n",
    "(Partly abridged from R Basics: quick (and partial) summary by Giuseppe Jurman)\n",
    "\n",
    "R is an integrated suite of software facilities for data manipulation, calculation and graphical display. Among other things it has\n",
    "\n",
    "* an effective data handling and storage facility,\n",
    "* a suite of operators for calculations on arrays, in particular matrices,\n",
    "* a large, coherent, integrated collection of intermediate tools for data analysis,\n",
    "* graphical facilities for data analysis and display either directly at the computer or on hardcopy\n",
    "\n",
    "\n",
    "The term “environment” is intended to characterize it as a fully planned and coherent system, rather than an incremental accretion of very specific and inflexible tools, as is frequently the case with other data analysis software.\n",
    "\n",
    "\n",
    "R consists of a core engine, plus additional *packages* available either at a [CRAN](https://cran.r-project.org/mirrors.html) mirror or at the respective developer's site\n",
    "Packages can be installed either through the RStudio interface or using the R command *install.packages()*.\n",
    "Also help can be accessed via the RStudio interface, or by the command *?*.\n",
    "\n",
    "In this course we will use R via Jupiter notebook.\n",
    "\n",
    "Also exist RStudio (https://www.rstudio.com/) , an integrated development environment (IDE). It permits to create [R notebooks (https://bookdown.org/yihui/rmarkdown/notebook.html)  mixing *markdown* text and R code *chunks* can can be executed inline, producing a final report (*e.g.* in HTML or PDF, or even [slides](https://bookdown.org/yihui/rmarkdown/ioslides-presentation.html)) including text, code and code output.\n",
    "\n",
    "The text is written in a dialect of the [markdown](https://en.wikipedia.org/wiki/Markdown) language, a lightweight markup language with plain text formatting syntax easily convertible in many output formats. In particular, R adopts the [Pandoc](https://pandoc.org/) version, which is one of the most comprehensive. The [quick guide](https://bookdown.org/yihui/rmarkdown/markdown-syntax.html) to the R markdown syntax can be of help, together with this practical [cheatsheet](https://www.rstudio.com/wp-content/uploads/2015/02/rmarkdown-cheatsheet.pdf). \n"
   ]
  },
  {
   "cell_type": "markdown",
   "metadata": {},
   "source": [
    "# Workspace\n",
    "The entities that R creates and manipulates are known as objects. These may be variables, arrays of numbers, character strings, functions, or more general structures built from such components.\n",
    "For example, we can create an object call _test_. (later we discuss better all type of object)"
   ]
  },
  {
   "cell_type": "code",
   "execution_count": 2,
   "metadata": {},
   "outputs": [
    {
     "data": {
      "text/html": [
       "'Hello'"
      ],
      "text/latex": [
       "'Hello'"
      ],
      "text/markdown": [
       "'Hello'"
      ],
      "text/plain": [
       "[1] \"Hello\""
      ]
     },
     "metadata": {},
     "output_type": "display_data"
    }
   ],
   "source": [
    "test<-(\"Hello\")\n",
    "test"
   ]
  },
  {
   "cell_type": "markdown",
   "metadata": {},
   "source": [
    "During an R session, objects are created and stored by name.\n",
    "To display the names of (most of) the objects which are currently stored within R we can use one of the two following commands:"
   ]
  },
  {
   "cell_type": "code",
   "execution_count": 6,
   "metadata": {},
   "outputs": [
    {
     "data": {
      "text/html": [],
      "text/latex": [],
      "text/markdown": [],
      "text/plain": [
       "character(0)"
      ]
     },
     "metadata": {},
     "output_type": "display_data"
    },
    {
     "data": {
      "text/html": [],
      "text/latex": [],
      "text/markdown": [],
      "text/plain": [
       "character(0)"
      ]
     },
     "metadata": {},
     "output_type": "display_data"
    }
   ],
   "source": [
    "objects()\n",
    "ls()"
   ]
  },
  {
   "cell_type": "markdown",
   "metadata": {},
   "source": [
    "To remove objects the function rm is available:"
   ]
  },
  {
   "cell_type": "code",
   "execution_count": 7,
   "metadata": {},
   "outputs": [
    {
     "name": "stderr",
     "output_type": "stream",
     "text": [
      "Warning message in rm(test):\n",
      "“object 'test' not found”\n"
     ]
    }
   ],
   "source": [
    "rm(test)"
   ]
  },
  {
   "cell_type": "markdown",
   "metadata": {},
   "source": [
    "All objects created during an R session can be stored permanently in a file for use in future R sessions. At the end of each R session you are given the opportunity to save all the currently available objects. If you indicate that you want to do this, the objects are written to a file called .RData6 in the current directory, and the command lines used in the session are saved to a file called .Rhistory.\n",
    "\n",
    "When R is started at later time from the same directory it reloads the workspace from this file. At the same time the associated commands history is reloaded.\n",
    "\n",
    "*Red Flags!!* it is recommended that you should use separate working directories for analyses conducted with R. It is quite common for objects with names x and y to be created during an analysis. Names like this are often meaningful in the context of a single analysis, but it can be quite hard to decide what they might be when the several analyses have been conducted in the same directory.\n"
   ]
  },
  {
   "cell_type": "markdown",
   "metadata": {},
   "source": [
    "# Objects\n",
    "## Vectors\n",
    "R operates on named data structures. The simplest  structure is the numeric vector, which is a single entity consisting of an ordered collection of numbers. \n",
    "For examples, we want to set up a vector named x, say, consisting of five numbers, namely 10.4, 5.6, 3.1, 6.4 and 21.7. We can use one of the following R command:"
   ]
  },
  {
   "cell_type": "code",
   "execution_count": 8,
   "metadata": {},
   "outputs": [
    {
     "name": "stdout",
     "output_type": "stream",
     "text": [
      "[1] 10.4  5.6  3.1  6.4 21.7\n"
     ]
    }
   ],
   "source": [
    "x <- c(10.4, 5.6, 3.1, 6.4, 21.7)\n",
    "print(x)"
   ]
  },
  {
   "cell_type": "code",
   "execution_count": 11,
   "metadata": {},
   "outputs": [
    {
     "name": "stdout",
     "output_type": "stream",
     "text": [
      "[1] 10.4  5.6  3.1  6.4 21.7\n"
     ]
    }
   ],
   "source": [
    "assign(\"a\", c(10.4, 5.6, 3.1, 6.4, 21.7))\n",
    "print(a)"
   ]
  },
  {
   "cell_type": "code",
   "execution_count": 12,
   "metadata": {},
   "outputs": [
    {
     "name": "stdout",
     "output_type": "stream",
     "text": [
      "[1] 10.4  5.6  3.1  6.4 21.7\n"
     ]
    }
   ],
   "source": [
    "b = c(10.4, 5.6, 3.1, 6.4, 21.7)\n",
    "print(b)"
   ]
  },
  {
   "cell_type": "markdown",
   "metadata": {},
   "source": [
    "This is a combination of 2 parts: \n",
    "\n",
    "-The function c() \n",
    "\n",
    "-The assignment operator (‘<-’) \n",
    "\n",
    "The function **c()** in this context can take an arbitrary number of vector arguments and whose value is a vector got by concatenating its arguments end to end.\n",
    "\n",
    "The assignment operator '**<-**', which consists of the two characters ‘<’ (“less than”) and ‘-’ (“minus”) occurring strictly side-by-side and it ‘points’ to the object receiving the value of the expression. \n",
    "\n",
    "Assignments can also be made in the other direction, using the obvious change in the assignment operator. So the same assignment could be made using:"
   ]
  },
  {
   "cell_type": "code",
   "execution_count": 13,
   "metadata": {},
   "outputs": [
    {
     "name": "stdout",
     "output_type": "stream",
     "text": [
      "[1] 10.4  5.6  3.1  6.4 21.7\n"
     ]
    }
   ],
   "source": [
    "c(10.4, 5.6, 3.1, 6.4, 21.7) -> d\n",
    "print(d)"
   ]
  },
  {
   "cell_type": "markdown",
   "metadata": {},
   "source": [
    "In general the usual operator, **<-**, can be thought of as a syntactic short-cut to this.\n"
   ]
  },
  {
   "cell_type": "markdown",
   "metadata": {},
   "source": [
    "If an expression is used as a complete command, the value is printed and **lost**. So now if we were to use the command"
   ]
  },
  {
   "cell_type": "code",
   "execution_count": 14,
   "metadata": {},
   "outputs": [
    {
     "data": {
      "text/html": [
       "<style>\n",
       ".list-inline {list-style: none; margin:0; padding: 0}\n",
       ".list-inline>li {display: inline-block}\n",
       ".list-inline>li:not(:last-child)::after {content: \"\\00b7\"; padding: 0 .5ex}\n",
       "</style>\n",
       "<ol class=list-inline><li>0.0961538461538461</li><li>0.178571428571429</li><li>0.32258064516129</li><li>0.15625</li><li>0.0460829493087558</li></ol>\n"
      ],
      "text/latex": [
       "\\begin{enumerate*}\n",
       "\\item 0.0961538461538461\n",
       "\\item 0.178571428571429\n",
       "\\item 0.32258064516129\n",
       "\\item 0.15625\n",
       "\\item 0.0460829493087558\n",
       "\\end{enumerate*}\n"
      ],
      "text/markdown": [
       "1. 0.0961538461538461\n",
       "2. 0.178571428571429\n",
       "3. 0.32258064516129\n",
       "4. 0.15625\n",
       "5. 0.0460829493087558\n",
       "\n",
       "\n"
      ],
      "text/plain": [
       "[1] 0.09615385 0.17857143 0.32258065 0.15625000 0.04608295"
      ]
     },
     "metadata": {},
     "output_type": "display_data"
    }
   ],
   "source": [
    "1/x"
   ]
  },
  {
   "cell_type": "markdown",
   "metadata": {},
   "source": [
    "the reciprocals of the five values would be printed at the terminal (and the value of x, of course, unchanged).\n",
    "\n",
    "The further assignment:"
   ]
  },
  {
   "cell_type": "code",
   "execution_count": 15,
   "metadata": {},
   "outputs": [
    {
     "name": "stdout",
     "output_type": "stream",
     "text": [
      " [1] 10.4  5.6  3.1  6.4 21.7  0.0 10.4  5.6  3.1  6.4 21.7\n"
     ]
    }
   ],
   "source": [
    "y <- c(x, 0, x)\n",
    "print(y)"
   ]
  },
  {
   "cell_type": "markdown",
   "metadata": {},
   "source": [
    "would create a vector y with 11 entries consisting of two copies of x with a zero in the middle place.\n",
    "\n",
    "Vectors can be used in arithmetic expressions, in which case the operations are performed element by element. Vectors occurring in the same expression need not all be of the same length. If they are not, the value of the expression is a vector with the same length as the longest vector which occurs in the expression. Shorter vectors in the expression are recycled as often as need be (perhaps fractionally) until they match the length of the longest vector, issuing a warning. In particular a constant is simply repeated. So with the above assignments the command"
   ]
  },
  {
   "cell_type": "code",
   "execution_count": 17,
   "metadata": {},
   "outputs": [
    {
     "name": "stderr",
     "output_type": "stream",
     "text": [
      "Warning message in 2 * x + y:\n",
      "“longer object length is not a multiple of shorter object length”\n"
     ]
    },
    {
     "data": {
      "text/html": [
       "<style>\n",
       ".list-inline {list-style: none; margin:0; padding: 0}\n",
       ".list-inline>li {display: inline-block}\n",
       ".list-inline>li:not(:last-child)::after {content: \"\\00b7\"; padding: 0 .5ex}\n",
       "</style>\n",
       "<ol class=list-inline><li>32.2</li><li>17.8</li><li>10.3</li><li>20.2</li><li>66.1</li><li>21.8</li><li>22.6</li><li>12.8</li><li>16.9</li><li>50.8</li><li>43.5</li></ol>\n"
      ],
      "text/latex": [
       "\\begin{enumerate*}\n",
       "\\item 32.2\n",
       "\\item 17.8\n",
       "\\item 10.3\n",
       "\\item 20.2\n",
       "\\item 66.1\n",
       "\\item 21.8\n",
       "\\item 22.6\n",
       "\\item 12.8\n",
       "\\item 16.9\n",
       "\\item 50.8\n",
       "\\item 43.5\n",
       "\\end{enumerate*}\n"
      ],
      "text/markdown": [
       "1. 32.2\n",
       "2. 17.8\n",
       "3. 10.3\n",
       "4. 20.2\n",
       "5. 66.1\n",
       "6. 21.8\n",
       "7. 22.6\n",
       "8. 12.8\n",
       "9. 16.9\n",
       "10. 50.8\n",
       "11. 43.5\n",
       "\n",
       "\n"
      ],
      "text/plain": [
       " [1] 32.2 17.8 10.3 20.2 66.1 21.8 22.6 12.8 16.9 50.8 43.5"
      ]
     },
     "metadata": {},
     "output_type": "display_data"
    }
   ],
   "source": [
    "v <- 2*x + y + 1\n",
    "v"
   ]
  },
  {
   "cell_type": "markdown",
   "metadata": {},
   "source": [
    "generates a new vector v of length 11 constructed by adding together, element by element, 2*x repeated 2.2 times, y repeated just once, and 1 repeated 11 times.  "
   ]
  },
  {
   "cell_type": "markdown",
   "metadata": {},
   "source": [
    "The elementary arithmetic operators are the usual +, -, \\*, / and ^ for raising to a power. In addition all of the common arithmetic functions are available. *log, exp, sin, cos, tan, sqrt*, and so on, all have their usual meaning. *max()* and *min()* select the largest and smallest elements of a vector respectively. *range()* is a function whose value is a vector of length two, namely *c(min(x), max(x)).*"
   ]
  },
  {
   "cell_type": "code",
   "execution_count": 18,
   "metadata": {},
   "outputs": [
    {
     "data": {
      "text/html": [
       "3.1"
      ],
      "text/latex": [
       "3.1"
      ],
      "text/markdown": [
       "3.1"
      ],
      "text/plain": [
       "[1] 3.1"
      ]
     },
     "metadata": {},
     "output_type": "display_data"
    },
    {
     "data": {
      "text/html": [
       "21.7"
      ],
      "text/latex": [
       "21.7"
      ],
      "text/markdown": [
       "21.7"
      ],
      "text/plain": [
       "[1] 21.7"
      ]
     },
     "metadata": {},
     "output_type": "display_data"
    },
    {
     "data": {
      "text/html": [
       "<style>\n",
       ".list-inline {list-style: none; margin:0; padding: 0}\n",
       ".list-inline>li {display: inline-block}\n",
       ".list-inline>li:not(:last-child)::after {content: \"\\00b7\"; padding: 0 .5ex}\n",
       "</style>\n",
       "<ol class=list-inline><li>3.1</li><li>21.7</li></ol>\n"
      ],
      "text/latex": [
       "\\begin{enumerate*}\n",
       "\\item 3.1\n",
       "\\item 21.7\n",
       "\\end{enumerate*}\n"
      ],
      "text/markdown": [
       "1. 3.1\n",
       "2. 21.7\n",
       "\n",
       "\n"
      ],
      "text/plain": [
       "[1]  3.1 21.7"
      ]
     },
     "metadata": {},
     "output_type": "display_data"
    }
   ],
   "source": [
    "min(x)\n",
    "max(x)\n",
    "range(x)"
   ]
  },
  {
   "cell_type": "markdown",
   "metadata": {},
   "source": [
    "Note that *max* and *min* select the largest and smallest values in their arguments, even if they are given several vectors. The parallel maximum and minimum functions *pmax()* and *pmin()* return a vector (of length equal to their longest argument) that contains in each element the largest (smallest) element in that position in any of the input vectors."
   ]
  },
  {
   "cell_type": "code",
   "execution_count": 19,
   "metadata": {},
   "outputs": [
    {
     "data": {
      "text/html": [
       "21.7"
      ],
      "text/latex": [
       "21.7"
      ],
      "text/markdown": [
       "21.7"
      ],
      "text/plain": [
       "[1] 21.7"
      ]
     },
     "metadata": {},
     "output_type": "display_data"
    },
    {
     "name": "stderr",
     "output_type": "stream",
     "text": [
      "Warning message in pmax(x, y):\n",
      "“an argument will be fractionally recycled”\n"
     ]
    },
    {
     "data": {
      "text/html": [
       "<style>\n",
       ".list-inline {list-style: none; margin:0; padding: 0}\n",
       ".list-inline>li {display: inline-block}\n",
       ".list-inline>li:not(:last-child)::after {content: \"\\00b7\"; padding: 0 .5ex}\n",
       "</style>\n",
       "<ol class=list-inline><li>10.4</li><li>5.6</li><li>3.1</li><li>6.4</li><li>21.7</li><li>10.4</li><li>10.4</li><li>5.6</li><li>6.4</li><li>21.7</li><li>21.7</li></ol>\n"
      ],
      "text/latex": [
       "\\begin{enumerate*}\n",
       "\\item 10.4\n",
       "\\item 5.6\n",
       "\\item 3.1\n",
       "\\item 6.4\n",
       "\\item 21.7\n",
       "\\item 10.4\n",
       "\\item 10.4\n",
       "\\item 5.6\n",
       "\\item 6.4\n",
       "\\item 21.7\n",
       "\\item 21.7\n",
       "\\end{enumerate*}\n"
      ],
      "text/markdown": [
       "1. 10.4\n",
       "2. 5.6\n",
       "3. 3.1\n",
       "4. 6.4\n",
       "5. 21.7\n",
       "6. 10.4\n",
       "7. 10.4\n",
       "8. 5.6\n",
       "9. 6.4\n",
       "10. 21.7\n",
       "11. 21.7\n",
       "\n",
       "\n"
      ],
      "text/plain": [
       " [1] 10.4  5.6  3.1  6.4 21.7 10.4 10.4  5.6  6.4 21.7 21.7"
      ]
     },
     "metadata": {},
     "output_type": "display_data"
    }
   ],
   "source": [
    "max(x,y)\n",
    "pmax(x,y)"
   ]
  },
  {
   "cell_type": "markdown",
   "metadata": {},
   "source": [
    "*length(x)* is the number of elements in *x*, "
   ]
  },
  {
   "cell_type": "code",
   "execution_count": 20,
   "metadata": {},
   "outputs": [
    {
     "data": {
      "text/html": [
       "5"
      ],
      "text/latex": [
       "5"
      ],
      "text/markdown": [
       "5"
      ],
      "text/plain": [
       "[1] 5"
      ]
     },
     "metadata": {},
     "output_type": "display_data"
    }
   ],
   "source": [
    "length(x)"
   ]
  },
  {
   "cell_type": "markdown",
   "metadata": {},
   "source": [
    "*sum(x)* gives the total of the elements in *x*, and *prod(x)* their product."
   ]
  },
  {
   "cell_type": "code",
   "execution_count": 21,
   "metadata": {},
   "outputs": [
    {
     "data": {
      "text/html": [
       "47.2"
      ],
      "text/latex": [
       "47.2"
      ],
      "text/markdown": [
       "47.2"
      ],
      "text/plain": [
       "[1] 47.2"
      ]
     },
     "metadata": {},
     "output_type": "display_data"
    },
    {
     "data": {
      "text/html": [
       "25073.95072"
      ],
      "text/latex": [
       "25073.95072"
      ],
      "text/markdown": [
       "25073.95072"
      ],
      "text/plain": [
       "[1] 25073.95"
      ]
     },
     "metadata": {},
     "output_type": "display_data"
    }
   ],
   "source": [
    "sum(x)\n",
    "prod(x)"
   ]
  },
  {
   "cell_type": "markdown",
   "metadata": {},
   "source": [
    "Two statistical functions are *mean(x)* which calculates the sample mean, which is the same as *sum(x)/length(x)*, and *var(x)* which gives the sample variance, i.e.\n",
    "sum((x-mean(x))^2)/(length(x)-1)"
   ]
  },
  {
   "cell_type": "markdown",
   "metadata": {},
   "source": [
    "*sort(x)* returns a vector of the same size as x with the elements arranged in increasing order; however there are other more flexible sorting facilities available."
   ]
  },
  {
   "cell_type": "code",
   "execution_count": 22,
   "metadata": {},
   "outputs": [
    {
     "data": {
      "text/html": [
       "<style>\n",
       ".list-inline {list-style: none; margin:0; padding: 0}\n",
       ".list-inline>li {display: inline-block}\n",
       ".list-inline>li:not(:last-child)::after {content: \"\\00b7\"; padding: 0 .5ex}\n",
       "</style>\n",
       "<ol class=list-inline><li>3.1</li><li>5.6</li><li>6.4</li><li>10.4</li><li>21.7</li></ol>\n"
      ],
      "text/latex": [
       "\\begin{enumerate*}\n",
       "\\item 3.1\n",
       "\\item 5.6\n",
       "\\item 6.4\n",
       "\\item 10.4\n",
       "\\item 21.7\n",
       "\\end{enumerate*}\n"
      ],
      "text/markdown": [
       "1. 3.1\n",
       "2. 5.6\n",
       "3. 6.4\n",
       "4. 10.4\n",
       "5. 21.7\n",
       "\n",
       "\n"
      ],
      "text/plain": [
       "[1]  3.1  5.6  6.4 10.4 21.7"
      ]
     },
     "metadata": {},
     "output_type": "display_data"
    }
   ],
   "source": [
    "sort(x)"
   ]
  },
  {
   "cell_type": "markdown",
   "metadata": {},
   "source": [
    "### missing values\n",
    "In some cases the components of a vector may not be completely known. When an element or value is “not available” or a “missing value” in the statistical sense, a place within a vector may be reserved for it by assigning it the special value NA. In general any operation on an NA becomes an NA. The motivation for this rule is simply that if the specification of an operation is incomplete, the result cannot be known and hence is not available.\n",
    "\n",
    "\n",
    "The function *is.na(x)* gives a logical vector of the same size as x with value TRUE if and only if the corresponding element in x is NA.\n"
   ]
  },
  {
   "cell_type": "markdown",
   "metadata": {},
   "source": [
    "## Character vectors\n",
    "Character quantities and character vectors are used frequently in R, for example as plot labels. Where needed they are denoted by a sequence of characters delimited by the double quote character, *e.g.,* \"x-values\", \"New iteration results\".\n",
    "\n",
    "Character strings are entered using either matching double (\") or single (') quotes, but are printed using double quotes (or sometimes without quotes). \n",
    "\n",
    "Character vectors may be concatenated into a vector by the *c()* function; "
   ]
  },
  {
   "cell_type": "code",
   "execution_count": 24,
   "metadata": {},
   "outputs": [
    {
     "data": {
      "text/html": [
       "<style>\n",
       ".list-inline {list-style: none; margin:0; padding: 0}\n",
       ".list-inline>li {display: inline-block}\n",
       ".list-inline>li:not(:last-child)::after {content: \"\\00b7\"; padding: 0 .5ex}\n",
       "</style>\n",
       "<ol class=list-inline><li>'X'</li><li>'Y'</li></ol>\n"
      ],
      "text/latex": [
       "\\begin{enumerate*}\n",
       "\\item 'X'\n",
       "\\item 'Y'\n",
       "\\end{enumerate*}\n"
      ],
      "text/markdown": [
       "1. 'X'\n",
       "2. 'Y'\n",
       "\n",
       "\n"
      ],
      "text/plain": [
       "[1] \"X\" \"Y\""
      ]
     },
     "metadata": {},
     "output_type": "display_data"
    }
   ],
   "source": [
    "label <- c(\"X\", \"Y\")\n",
    "label"
   ]
  },
  {
   "cell_type": "markdown",
   "metadata": {},
   "source": [
    "## Index vectors & slicing\n",
    "**WARNING** *In R, indexing starts from 1 (not from 0 as in C/Python)*\n",
    "\n",
    "Subsets of the elements of a vector may be selected by appending to the name of the vector an index vector in square brackets. More generally any expression that evaluates to a vector may have subsets of its elements similarly selected by appending an index vector in square brackets immediately after the expression.\n"
   ]
  },
  {
   "cell_type": "markdown",
   "metadata": {},
   "source": [
    "Such index vectors can be any of four distinct types.\n",
    "\n",
    "* **A logical vector**  Values corresponding to TRUE in the index vector are selected and those corresponding to FALSE are omitted. For example\n",
    "\n"
   ]
  },
  {
   "cell_type": "code",
   "execution_count": 25,
   "metadata": {},
   "outputs": [
    {
     "name": "stdout",
     "output_type": "stream",
     "text": [
      "[1] -1 -2  3  4  7  8  9\n"
     ]
    }
   ],
   "source": [
    "x <- c(-1,-2,3,4,NA,NA,7,8,9)\n",
    "y <- x[!is.na(x)]\n",
    "print(y)"
   ]
  },
  {
   "cell_type": "markdown",
   "metadata": {},
   "source": [
    "creates (or re-creates) an object y which will contain the non-missing values of x, in the same order. Note that if x has missing values, y will be shorter than x. "
   ]
  },
  {
   "cell_type": "markdown",
   "metadata": {},
   "source": [
    "* **A vector of positive integral quantities** In this case the values in the index vector must lie in the set {1, 2, …, length(x)}. The corresponding elements of the vector are selected and concatenated, in that order, in the result. The index vector can be of any length and the result is of the same length as the index vector. Some examples:\n",
    "\n"
   ]
  },
  {
   "cell_type": "code",
   "execution_count": 26,
   "metadata": {},
   "outputs": [
    {
     "data": {
      "text/html": [
       "&lt;NA&gt;"
      ],
      "text/latex": [
       "<NA>"
      ],
      "text/markdown": [
       "&lt;NA&gt;"
      ],
      "text/plain": [
       "[1] NA"
      ]
     },
     "metadata": {},
     "output_type": "display_data"
    },
    {
     "data": {
      "text/html": [
       "<style>\n",
       ".list-inline {list-style: none; margin:0; padding: 0}\n",
       ".list-inline>li {display: inline-block}\n",
       ".list-inline>li:not(:last-child)::after {content: \"\\00b7\"; padding: 0 .5ex}\n",
       "</style>\n",
       "<ol class=list-inline><li>-1</li><li>-2</li><li>3</li><li>4</li><li>&lt;NA&gt;</li><li>&lt;NA&gt;</li><li>7</li><li>8</li><li>9</li><li>&lt;NA&gt;</li></ol>\n"
      ],
      "text/latex": [
       "\\begin{enumerate*}\n",
       "\\item -1\n",
       "\\item -2\n",
       "\\item 3\n",
       "\\item 4\n",
       "\\item <NA>\n",
       "\\item <NA>\n",
       "\\item 7\n",
       "\\item 8\n",
       "\\item 9\n",
       "\\item <NA>\n",
       "\\end{enumerate*}\n"
      ],
      "text/markdown": [
       "1. -1\n",
       "2. -2\n",
       "3. 3\n",
       "4. 4\n",
       "5. &lt;NA&gt;\n",
       "6. &lt;NA&gt;\n",
       "7. 7\n",
       "8. 8\n",
       "9. 9\n",
       "10. &lt;NA&gt;\n",
       "\n",
       "\n"
      ],
      "text/plain": [
       " [1] -1 -2  3  4 NA NA  7  8  9 NA"
      ]
     },
     "metadata": {},
     "output_type": "display_data"
    }
   ],
   "source": [
    "x[6]\n",
    "x[1:10]"
   ]
  },
  {
   "cell_type": "markdown",
   "metadata": {},
   "source": [
    "The first command select the sixth component of x .\n",
    "\n",
    "The second command selects the first 10 elements of x.\n"
   ]
  },
  {
   "cell_type": "markdown",
   "metadata": {},
   "source": [
    "* **A vector of negative integral quantities** Such an index vector specifies the values to be excluded rather than included. Thus\n"
   ]
  },
  {
   "cell_type": "code",
   "execution_count": 28,
   "metadata": {},
   "outputs": [
    {
     "data": {
      "text/html": [
       "<style>\n",
       ".list-inline {list-style: none; margin:0; padding: 0}\n",
       ".list-inline>li {display: inline-block}\n",
       ".list-inline>li:not(:last-child)::after {content: \"\\00b7\"; padding: 0 .5ex}\n",
       "</style>\n",
       "<ol class=list-inline><li>&lt;NA&gt;</li><li>7</li><li>8</li><li>9</li></ol>\n"
      ],
      "text/latex": [
       "\\begin{enumerate*}\n",
       "\\item <NA>\n",
       "\\item 7\n",
       "\\item 8\n",
       "\\item 9\n",
       "\\end{enumerate*}\n"
      ],
      "text/markdown": [
       "1. &lt;NA&gt;\n",
       "2. 7\n",
       "3. 8\n",
       "4. 9\n",
       "\n",
       "\n"
      ],
      "text/plain": [
       "[1] NA  7  8  9"
      ]
     },
     "metadata": {},
     "output_type": "display_data"
    }
   ],
   "source": [
    "x[-(1:5)]"
   ]
  },
  {
   "cell_type": "markdown",
   "metadata": {},
   "source": [
    "* **A vector of character strings**. This possibility only applies where an object has a names attribute to identify its components. In this case a sub-vector of the names vector may be used in the same way as the positive integral labels in item 2 further above."
   ]
  },
  {
   "cell_type": "code",
   "execution_count": 29,
   "metadata": {},
   "outputs": [
    {
     "name": "stdout",
     "output_type": "stream",
     "text": [
      " apple orange \n",
      "     1      5 \n"
     ]
    }
   ],
   "source": [
    "fruit <- c(5, 10, 1, 20)\n",
    "names(fruit) <- c(\"orange\", \"banana\", \"apple\", \"peach\")\n",
    "lunch <- fruit[c(\"apple\",\"orange\")]\n",
    "print(lunch)"
   ]
  },
  {
   "cell_type": "markdown",
   "metadata": {},
   "source": [
    "The advantage is that alphanumeric names are often easier to remember than numeric indices. This option is particularly useful in connection with data frames, as we shall see later."
   ]
  },
  {
   "cell_type": "markdown",
   "metadata": {},
   "source": [
    "An indexed expression can also appear on the receiving end of an assignment, in which case the assignment operation is performed only on those elements of the vector. The expression must be of the form vector[index_vector] as having an arbitrary expression in place of the vector name does not make much sense here.For example, for replaces any missing values in x by zeros we can do something like that. "
   ]
  },
  {
   "cell_type": "code",
   "execution_count": 30,
   "metadata": {},
   "outputs": [
    {
     "name": "stdout",
     "output_type": "stream",
     "text": [
      "[1] -1 -2  3  4  0  0  7  8  9\n"
     ]
    }
   ],
   "source": [
    "x[is.na(x)] <- 0\n",
    "print(x)"
   ]
  },
  {
   "cell_type": "markdown",
   "metadata": {},
   "source": [
    "## Factors\n",
    "A factor is a vector object used to specify a discrete classification (grouping) of the components of other vectors of the same length. R provides both ordered and unordered factors.\n",
    "\n",
    "Suppose, for example, we have a sample of 30 kittens and their individual type of favourite game is specified by a character vector of games,\n",
    "\n",
    "Suppose, for example, we have a sample of 30 tax accountants from all the states and territories of Australia and their individual state of origin is specified by a character vector of statesaved as "
   ]
  },
  {
   "cell_type": "code",
   "execution_count": 31,
   "metadata": {},
   "outputs": [
    {
     "name": "stdout",
     "output_type": "stream",
     "text": [
      " [1] \"tas\" \"sa\"  \"qld\" \"nsw\" \"nsw\" \"nt\"  \"wa\"  \"wa\"  \"qld\" \"vic\" \"nsw\" \"vic\"\n",
      "[13] \"qld\" \"qld\" \"sa\"  \"tas\" \"sa\"  \"nt\"  \"wa\"  \"vic\" \"qld\" \"nsw\" \"nsw\" \"wa\" \n",
      "[25] \"sa\"  \"act\" \"nsw\" \"vic\" \"vic\" \"act\"\n"
     ]
    }
   ],
   "source": [
    "state <- c(\"tas\", \"sa\",  \"qld\", \"nsw\", \"nsw\", \"nt\",  \"wa\",  \"wa\",\n",
    "             \"qld\", \"vic\", \"nsw\", \"vic\", \"qld\", \"qld\", \"sa\",  \"tas\",\n",
    "             \"sa\",  \"nt\",  \"wa\",  \"vic\", \"qld\", \"nsw\", \"nsw\", \"wa\",\n",
    "             \"sa\",  \"act\", \"nsw\", \"vic\", \"vic\", \"act\")\n",
    "print(state)"
   ]
  },
  {
   "cell_type": "markdown",
   "metadata": {},
   "source": [
    "For trasform this vector in a factor we can use the factor() function. The print() function handles factors slightly differently from other objects:"
   ]
  },
  {
   "cell_type": "code",
   "execution_count": 32,
   "metadata": {},
   "outputs": [
    {
     "name": "stdout",
     "output_type": "stream",
     "text": [
      " [1] tas sa  qld nsw nsw nt  wa  wa  qld vic nsw vic qld qld sa  tas sa  nt  wa \n",
      "[20] vic qld nsw nsw wa  sa  act nsw vic vic act\n",
      "Levels: act nsw nt qld sa tas vic wa\n"
     ]
    }
   ],
   "source": [
    "statef <- factor(state)\n",
    "print(statef)"
   ]
  },
  {
   "cell_type": "markdown",
   "metadata": {},
   "source": [
    "To find out the levels of a factor the function levels() can be used."
   ]
  },
  {
   "cell_type": "code",
   "execution_count": 33,
   "metadata": {},
   "outputs": [
    {
     "data": {
      "text/html": [
       "<style>\n",
       ".list-inline {list-style: none; margin:0; padding: 0}\n",
       ".list-inline>li {display: inline-block}\n",
       ".list-inline>li:not(:last-child)::after {content: \"\\00b7\"; padding: 0 .5ex}\n",
       "</style>\n",
       "<ol class=list-inline><li>'act'</li><li>'nsw'</li><li>'nt'</li><li>'qld'</li><li>'sa'</li><li>'tas'</li><li>'vic'</li><li>'wa'</li></ol>\n"
      ],
      "text/latex": [
       "\\begin{enumerate*}\n",
       "\\item 'act'\n",
       "\\item 'nsw'\n",
       "\\item 'nt'\n",
       "\\item 'qld'\n",
       "\\item 'sa'\n",
       "\\item 'tas'\n",
       "\\item 'vic'\n",
       "\\item 'wa'\n",
       "\\end{enumerate*}\n"
      ],
      "text/markdown": [
       "1. 'act'\n",
       "2. 'nsw'\n",
       "3. 'nt'\n",
       "4. 'qld'\n",
       "5. 'sa'\n",
       "6. 'tas'\n",
       "7. 'vic'\n",
       "8. 'wa'\n",
       "\n",
       "\n"
      ],
      "text/plain": [
       "[1] \"act\" \"nsw\" \"nt\"  \"qld\" \"sa\"  \"tas\" \"vic\" \"wa\" "
      ]
     },
     "metadata": {},
     "output_type": "display_data"
    }
   ],
   "source": [
    "levels(statef)"
   ]
  },
  {
   "cell_type": "markdown",
   "metadata": {},
   "source": [
    "The levels of factors are stored in alphabetical order, or in the order they were specified to factor if they were specified explicitly."
   ]
  },
  {
   "cell_type": "markdown",
   "metadata": {},
   "source": [
    "Sometimes the levels will have a natural ordering that we want to record and want our statistical analysis to make use of. The *ordered()* function creates such ordered factors but is otherwise identical to factor. \n",
    "\n",
    "Recall that a factor defines a partition into groups. Similarly a pair of factors defines a two way cross classification, and so on. \n",
    "\n",
    "The function table() allows frequency tables to be calculated from equal length factors. If there are k factor arguments, the result is a k-way array of frequencies.\n",
    "Suppose, for example, that statef is a factor giving the state code for each entry in a data vector. The assignment gives in *statefr* a table of frequencies of each state in the sample. The frequencies are ordered and labelled by the levels attribute of the factor. "
   ]
  },
  {
   "cell_type": "code",
   "execution_count": 34,
   "metadata": {},
   "outputs": [
    {
     "name": "stdout",
     "output_type": "stream",
     "text": [
      "statef\n",
      "act nsw  nt qld  sa tas vic  wa \n",
      "  2   6   2   5   4   2   5   4 \n"
     ]
    }
   ],
   "source": [
    "statefr <- table(statef)\n",
    "print(statefr)"
   ]
  },
  {
   "cell_type": "markdown",
   "metadata": {},
   "source": [
    "## Array\n",
    "An array can be considered as a multiply subscripted collection of data entries, for example numeric. R allows simple facilities for creating and handling arrays, and in particular the special case of matrices.\n",
    "\n",
    "A dimension vector is a vector of non-negative integers. If its length is k then the array is k-dimensional, *e.g.*, a matrix is a 2-dimensional array. The dimensions are indexed from one up to the values given in the dimension vector.\n",
    "\n",
    "A vector can be used by R as an array only if it has a dimension vector as its dim attribute. For any array, the dimension vector may be referenced explicitly as *dim(Z)*\n",
    "\n",
    "Suppose, for example, z is a vector of 60 elements. "
   ]
  },
  {
   "cell_type": "code",
   "execution_count": 42,
   "metadata": {},
   "outputs": [
    {
     "data": {
      "text/html": [
       "<style>\n",
       ".list-inline {list-style: none; margin:0; padding: 0}\n",
       ".list-inline>li {display: inline-block}\n",
       ".list-inline>li:not(:last-child)::after {content: \"\\00b7\"; padding: 0 .5ex}\n",
       "</style>\n",
       "<ol class=list-inline><li>1</li><li>2</li><li>3</li><li>4</li><li>5</li><li>6</li><li>7</li><li>8</li><li>9</li><li>10</li><li>11</li><li>12</li><li>13</li><li>14</li><li>15</li><li>16</li><li>17</li><li>18</li><li>19</li><li>20</li><li>21</li><li>22</li><li>23</li><li>24</li><li>25</li><li>26</li><li>27</li><li>28</li><li>29</li><li>30</li><li>31</li><li>32</li><li>33</li><li>34</li><li>35</li><li>36</li><li>37</li><li>38</li><li>39</li><li>40</li><li>41</li><li>42</li><li>43</li><li>44</li><li>45</li><li>46</li><li>47</li><li>48</li><li>49</li><li>50</li><li>51</li><li>52</li><li>53</li><li>54</li><li>55</li><li>56</li><li>57</li><li>58</li><li>59</li><li>60</li></ol>\n"
      ],
      "text/latex": [
       "\\begin{enumerate*}\n",
       "\\item 1\n",
       "\\item 2\n",
       "\\item 3\n",
       "\\item 4\n",
       "\\item 5\n",
       "\\item 6\n",
       "\\item 7\n",
       "\\item 8\n",
       "\\item 9\n",
       "\\item 10\n",
       "\\item 11\n",
       "\\item 12\n",
       "\\item 13\n",
       "\\item 14\n",
       "\\item 15\n",
       "\\item 16\n",
       "\\item 17\n",
       "\\item 18\n",
       "\\item 19\n",
       "\\item 20\n",
       "\\item 21\n",
       "\\item 22\n",
       "\\item 23\n",
       "\\item 24\n",
       "\\item 25\n",
       "\\item 26\n",
       "\\item 27\n",
       "\\item 28\n",
       "\\item 29\n",
       "\\item 30\n",
       "\\item 31\n",
       "\\item 32\n",
       "\\item 33\n",
       "\\item 34\n",
       "\\item 35\n",
       "\\item 36\n",
       "\\item 37\n",
       "\\item 38\n",
       "\\item 39\n",
       "\\item 40\n",
       "\\item 41\n",
       "\\item 42\n",
       "\\item 43\n",
       "\\item 44\n",
       "\\item 45\n",
       "\\item 46\n",
       "\\item 47\n",
       "\\item 48\n",
       "\\item 49\n",
       "\\item 50\n",
       "\\item 51\n",
       "\\item 52\n",
       "\\item 53\n",
       "\\item 54\n",
       "\\item 55\n",
       "\\item 56\n",
       "\\item 57\n",
       "\\item 58\n",
       "\\item 59\n",
       "\\item 60\n",
       "\\end{enumerate*}\n"
      ],
      "text/markdown": [
       "1. 1\n",
       "2. 2\n",
       "3. 3\n",
       "4. 4\n",
       "5. 5\n",
       "6. 6\n",
       "7. 7\n",
       "8. 8\n",
       "9. 9\n",
       "10. 10\n",
       "11. 11\n",
       "12. 12\n",
       "13. 13\n",
       "14. 14\n",
       "15. 15\n",
       "16. 16\n",
       "17. 17\n",
       "18. 18\n",
       "19. 19\n",
       "20. 20\n",
       "21. 21\n",
       "22. 22\n",
       "23. 23\n",
       "24. 24\n",
       "25. 25\n",
       "26. 26\n",
       "27. 27\n",
       "28. 28\n",
       "29. 29\n",
       "30. 30\n",
       "31. 31\n",
       "32. 32\n",
       "33. 33\n",
       "34. 34\n",
       "35. 35\n",
       "36. 36\n",
       "37. 37\n",
       "38. 38\n",
       "39. 39\n",
       "40. 40\n",
       "41. 41\n",
       "42. 42\n",
       "43. 43\n",
       "44. 44\n",
       "45. 45\n",
       "46. 46\n",
       "47. 47\n",
       "48. 48\n",
       "49. 49\n",
       "50. 50\n",
       "51. 51\n",
       "52. 52\n",
       "53. 53\n",
       "54. 54\n",
       "55. 55\n",
       "56. 56\n",
       "57. 57\n",
       "58. 58\n",
       "59. 59\n",
       "60. 60\n",
       "\n",
       "\n"
      ],
      "text/plain": [
       " [1]  1  2  3  4  5  6  7  8  9 10 11 12 13 14 15 16 17 18 19 20 21 22 23 24 25\n",
       "[26] 26 27 28 29 30 31 32 33 34 35 36 37 38 39 40 41 42 43 44 45 46 47 48 49 50\n",
       "[51] 51 52 53 54 55 56 57 58 59 60"
      ]
     },
     "metadata": {},
     "output_type": "display_data"
    }
   ],
   "source": [
    "z <- seq(1,60)\n",
    "z"
   ]
  },
  {
   "cell_type": "markdown",
   "metadata": {},
   "source": [
    "The following command gives it the dim attribute that allows it to be treated as a 3 by 5 by 4 array."
   ]
  },
  {
   "cell_type": "code",
   "execution_count": 43,
   "metadata": {},
   "outputs": [
    {
     "name": "stdout",
     "output_type": "stream",
     "text": [
      ", , 1\n",
      "\n",
      "     [,1] [,2] [,3] [,4] [,5]\n",
      "[1,]    1    4    7   10   13\n",
      "[2,]    2    5    8   11   14\n",
      "[3,]    3    6    9   12   15\n",
      "\n",
      ", , 2\n",
      "\n",
      "     [,1] [,2] [,3] [,4] [,5]\n",
      "[1,]   16   19   22   25   28\n",
      "[2,]   17   20   23   26   29\n",
      "[3,]   18   21   24   27   30\n",
      "\n",
      ", , 3\n",
      "\n",
      "     [,1] [,2] [,3] [,4] [,5]\n",
      "[1,]   31   34   37   40   43\n",
      "[2,]   32   35   38   41   44\n",
      "[3,]   33   36   39   42   45\n",
      "\n",
      ", , 4\n",
      "\n",
      "     [,1] [,2] [,3] [,4] [,5]\n",
      "[1,]   46   49   52   55   58\n",
      "[2,]   47   50   53   56   59\n",
      "[3,]   48   51   54   57   60\n",
      "\n"
     ]
    }
   ],
   "source": [
    "dim(z) <- c(3,5,4)\n",
    "print(z)"
   ]
  },
  {
   "cell_type": "markdown",
   "metadata": {},
   "source": [
    "An easy example\n",
    "\n",
    "In the case of a doubly indexed array, an index matrix may be given consisting of two columns and as many rows as desired. The entries in the index matrix are the row and column indices for the doubly indexed array. Suppose for example we have a 4 by 5 array X and we wish to do the following:\n",
    "\n",
    "* Extract elements X[1,3], X[2,2] and X[3,1] as a vector structure, and\n",
    "* Replace these entries in the array X by zeroes."
   ]
  },
  {
   "cell_type": "code",
   "execution_count": null,
   "metadata": {},
   "outputs": [],
   "source": []
  }
 ],
 "metadata": {
  "kernelspec": {
   "display_name": "R",
   "language": "R",
   "name": "ir"
  },
  "language_info": {
   "codemirror_mode": "r",
   "file_extension": ".r",
   "mimetype": "text/x-r-source",
   "name": "R",
   "pygments_lexer": "r",
   "version": "3.6.3"
  }
 },
 "nbformat": 4,
 "nbformat_minor": 4
}
