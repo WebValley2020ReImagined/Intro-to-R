{
 "cells": [
  {
   "cell_type": "code",
   "execution_count": 40,
   "metadata": {},
   "outputs": [],
   "source": [
    "library('moments')\n",
    "library('plyr')\n",
    "library('dplyr')\n",
    "library('ggplot2')\n",
    "library('GGally')\n",
    "library('car')"
   ]
  },
  {
   "cell_type": "code",
   "execution_count": 2,
   "metadata": {},
   "outputs": [],
   "source": [
    "# install.packages('moments')\n",
    "# install.packages('plyr')\n",
    "# install.packages('dplyr')\n",
    "# install.packages('ggplot2')\n",
    "# install.packages('GGally')"
   ]
  },
  {
   "cell_type": "code",
   "execution_count": 41,
   "metadata": {},
   "outputs": [],
   "source": [
    "# desc http://davis.wpi.edu/xmdv/datasets/cereal.html\n",
    "\n",
    "url = \"http://lib.stat.cmu.edu/datasets/1993.expo/cereal\"\n",
    "\n",
    "cereals <-\n",
    "  read.table(url,\n",
    "             header = FALSE,\n",
    "             as.is = TRUE,\n",
    "             na.strings = \"-1\")"
   ]
  },
  {
   "cell_type": "code",
   "execution_count": 42,
   "metadata": {},
   "outputs": [],
   "source": [
    "names(cereals) <-\n",
    "  c(\n",
    "    'name',\n",
    "    'mfr',\n",
    "    'type',\n",
    "    'calories',\n",
    "    'protein',\n",
    "    'fat',\n",
    "    'sodium',\n",
    "    'fiber',\n",
    "    'carbo',\n",
    "    'sugars',\n",
    "    'shelf',\n",
    "    'potass',\n",
    "    'vitamins',\n",
    "    'weight',\n",
    "    'cups'\n",
    "  )"
   ]
  },
  {
   "cell_type": "code",
   "execution_count": 43,
   "metadata": {},
   "outputs": [
    {
     "data": {
      "text/html": [
       "15"
      ],
      "text/latex": [
       "15"
      ],
      "text/markdown": [
       "15"
      ],
      "text/plain": [
       "[1] 15"
      ]
     },
     "metadata": {},
     "output_type": "display_data"
    }
   ],
   "source": [
    "#checking for missing data and its number\n",
    "sum(is.na(cereals))"
   ]
  },
  {
   "cell_type": "code",
   "execution_count": 44,
   "metadata": {},
   "outputs": [
    {
     "name": "stdout",
     "output_type": "stream",
     "text": [
      "'data.frame':\t65 obs. of  15 variables:\n",
      " $ name    : chr  \"100%_Bran\" \"All-Bran\" \"All-Bran_with_Extra_Fiber\" \"Apple_Cinnamon_Cheerios\" ...\n",
      " $ mfr     : chr  \"N\" \"K\" \"K\" \"G\" ...\n",
      " $ type    : chr  \"C\" \"C\" \"C\" \"C\" ...\n",
      " $ calories: int  70 70 50 110 110 130 90 90 120 110 ...\n",
      " $ protein : int  4 4 4 2 2 3 2 3 1 6 ...\n",
      " $ fat     : int  1 1 0 2 0 2 1 0 2 2 ...\n",
      " $ sodium  : int  130 260 140 180 125 210 200 210 220 290 ...\n",
      " $ fiber   : num  10 9 14 1.5 1 2 4 5 0 2 ...\n",
      " $ carbo   : num  5 7 8 10.5 11 18 15 13 12 17 ...\n",
      " $ sugars  : int  6 5 0 10 14 8 6 5 12 1 ...\n",
      " $ shelf   : int  3 3 3 1 2 3 1 3 2 1 ...\n",
      " $ potass  : int  280 320 330 70 30 100 125 190 35 105 ...\n",
      " $ vitamins: int  25 25 25 25 25 25 25 25 25 25 ...\n",
      " $ weight  : num  1 1 1 1 1 1.33 1 1 1 1 ...\n",
      " $ cups    : num  0.33 0.33 0.5 0.75 1 0.75 0.67 0.67 0.75 1.25 ...\n",
      " - attr(*, \"na.action\")= 'omit' Named int  2 5 21 39 44 45 46 51 56 58 ...\n",
      "  ..- attr(*, \"names\")= chr  \"2\" \"5\" \"21\" \"39\" ...\n"
     ]
    }
   ],
   "source": [
    "#deleting missing values, creating new data frame cereal. There exist imputation methods, but we're not studying them.\n",
    "cereals = na.omit(cereals)\n",
    "str(cereals)"
   ]
  },
  {
   "cell_type": "code",
   "execution_count": 45,
   "metadata": {},
   "outputs": [
    {
     "data": {
      "text/html": [
       "<style>\n",
       ".list-inline {list-style: none; margin:0; padding: 0}\n",
       ".list-inline>li {display: inline-block}\n",
       ".list-inline>li:not(:last-child)::after {content: \"\\00b7\"; padding: 0 .5ex}\n",
       "</style>\n",
       "<ol class=list-inline><li>3</li><li>3</li><li>3</li><li>1</li><li>2</li><li>3</li><li>1</li><li>3</li><li>2</li><li>1</li><li>2</li><li>3</li><li>2</li><li>1</li><li>1</li><li>2</li><li>2</li><li>3</li><li>3</li><li>3</li><li>3</li><li>2</li><li>1</li><li>2</li><li>3</li><li>3</li><li>2</li><li>1</li><li>2</li><li>3</li><li>3</li><li>3</li><li>2</li><li>1</li><li>1</li><li>3</li><li>2</li><li>2</li><li>2</li><li>3</li><li>1</li><li>2</li><li>3</li><li>3</li><li>3</li><li>3</li><li>3</li><li>3</li><li>2</li><li>3</li><li>3</li><li>1</li><li>1</li><li>1</li><li>1</li><li>2</li><li>1</li><li>3</li><li>3</li><li>3</li><li>3</li><li>2</li><li>1</li><li>1</li><li>1</li></ol>\n",
       "\n",
       "<details>\n",
       "\t<summary style=display:list-item;cursor:pointer>\n",
       "\t\t<strong>Levels</strong>:\n",
       "\t</summary>\n",
       "\t<style>\n",
       "\t.list-inline {list-style: none; margin:0; padding: 0}\n",
       "\t.list-inline>li {display: inline-block}\n",
       "\t.list-inline>li:not(:last-child)::after {content: \"\\00b7\"; padding: 0 .5ex}\n",
       "\t</style>\n",
       "\t<ol class=list-inline><li>'1'</li><li>'2'</li><li>'3'</li></ol>\n",
       "</details>"
      ],
      "text/latex": [
       "\\begin{enumerate*}\n",
       "\\item 3\n",
       "\\item 3\n",
       "\\item 3\n",
       "\\item 1\n",
       "\\item 2\n",
       "\\item 3\n",
       "\\item 1\n",
       "\\item 3\n",
       "\\item 2\n",
       "\\item 1\n",
       "\\item 2\n",
       "\\item 3\n",
       "\\item 2\n",
       "\\item 1\n",
       "\\item 1\n",
       "\\item 2\n",
       "\\item 2\n",
       "\\item 3\n",
       "\\item 3\n",
       "\\item 3\n",
       "\\item 3\n",
       "\\item 2\n",
       "\\item 1\n",
       "\\item 2\n",
       "\\item 3\n",
       "\\item 3\n",
       "\\item 2\n",
       "\\item 1\n",
       "\\item 2\n",
       "\\item 3\n",
       "\\item 3\n",
       "\\item 3\n",
       "\\item 2\n",
       "\\item 1\n",
       "\\item 1\n",
       "\\item 3\n",
       "\\item 2\n",
       "\\item 2\n",
       "\\item 2\n",
       "\\item 3\n",
       "\\item 1\n",
       "\\item 2\n",
       "\\item 3\n",
       "\\item 3\n",
       "\\item 3\n",
       "\\item 3\n",
       "\\item 3\n",
       "\\item 3\n",
       "\\item 2\n",
       "\\item 3\n",
       "\\item 3\n",
       "\\item 1\n",
       "\\item 1\n",
       "\\item 1\n",
       "\\item 1\n",
       "\\item 2\n",
       "\\item 1\n",
       "\\item 3\n",
       "\\item 3\n",
       "\\item 3\n",
       "\\item 3\n",
       "\\item 2\n",
       "\\item 1\n",
       "\\item 1\n",
       "\\item 1\n",
       "\\end{enumerate*}\n",
       "\n",
       "\\emph{Levels}: \\begin{enumerate*}\n",
       "\\item '1'\n",
       "\\item '2'\n",
       "\\item '3'\n",
       "\\end{enumerate*}\n"
      ],
      "text/markdown": [
       "1. 3\n",
       "2. 3\n",
       "3. 3\n",
       "4. 1\n",
       "5. 2\n",
       "6. 3\n",
       "7. 1\n",
       "8. 3\n",
       "9. 2\n",
       "10. 1\n",
       "11. 2\n",
       "12. 3\n",
       "13. 2\n",
       "14. 1\n",
       "15. 1\n",
       "16. 2\n",
       "17. 2\n",
       "18. 3\n",
       "19. 3\n",
       "20. 3\n",
       "21. 3\n",
       "22. 2\n",
       "23. 1\n",
       "24. 2\n",
       "25. 3\n",
       "26. 3\n",
       "27. 2\n",
       "28. 1\n",
       "29. 2\n",
       "30. 3\n",
       "31. 3\n",
       "32. 3\n",
       "33. 2\n",
       "34. 1\n",
       "35. 1\n",
       "36. 3\n",
       "37. 2\n",
       "38. 2\n",
       "39. 2\n",
       "40. 3\n",
       "41. 1\n",
       "42. 2\n",
       "43. 3\n",
       "44. 3\n",
       "45. 3\n",
       "46. 3\n",
       "47. 3\n",
       "48. 3\n",
       "49. 2\n",
       "50. 3\n",
       "51. 3\n",
       "52. 1\n",
       "53. 1\n",
       "54. 1\n",
       "55. 1\n",
       "56. 2\n",
       "57. 1\n",
       "58. 3\n",
       "59. 3\n",
       "60. 3\n",
       "61. 3\n",
       "62. 2\n",
       "63. 1\n",
       "64. 1\n",
       "65. 1\n",
       "\n",
       "\n",
       "\n",
       "**Levels**: 1. '1'\n",
       "2. '2'\n",
       "3. '3'\n",
       "\n",
       "\n"
      ],
      "text/plain": [
       " [1] 3 3 3 1 2 3 1 3 2 1 2 3 2 1 1 2 2 3 3 3 3 2 1 2 3 3 2 1 2 3 3 3 2 1 1 3 2 2\n",
       "[39] 2 3 1 2 3 3 3 3 3 3 2 3 3 1 1 1 1 2 1 3 3 3 3 2 1 1 1\n",
       "Levels: 1 < 2 < 3"
      ]
     },
     "metadata": {},
     "output_type": "display_data"
    },
    {
     "data": {
      "text/plain": [
       "\n",
       " 1  2  3 \n",
       "18 18 29 "
      ]
     },
     "metadata": {},
     "output_type": "display_data"
    }
   ],
   "source": [
    "# Creating a factor\n",
    "cereals$shelf <- factor(cereals$shelf, levels = 1:3, ordered = TRUE)\n",
    "cereals$shelf\n",
    "table(cereals$shelf)"
   ]
  },
  {
   "cell_type": "code",
   "execution_count": 46,
   "metadata": {},
   "outputs": [],
   "source": [
    "# if you want to name the factor levels instead of numbering them, package car, function recode\n",
    "cereals$shelfC <-\n",
    "  recode(cereals$shelf, \" 1='low'; 2='medium'; 3='high' \")"
   ]
  },
  {
   "cell_type": "code",
   "execution_count": 47,
   "metadata": {},
   "outputs": [
    {
     "data": {
      "text/plain": [
       "     name               mfr                type              calories    \n",
       " Length:65          Length:65          Length:65          Min.   : 50.0  \n",
       " Class :character   Class :character   Class :character   1st Qu.:100.0  \n",
       " Mode  :character   Mode  :character   Mode  :character   Median :110.0  \n",
       "                                                          Mean   :107.4  \n",
       "                                                          3rd Qu.:110.0  \n",
       "                                                          Max.   :160.0  \n",
       "    protein           fat             sodium          fiber       \n",
       " Min.   :1.000   Min.   :0.0000   Min.   :  0.0   Min.   : 0.000  \n",
       " 1st Qu.:2.000   1st Qu.:0.0000   1st Qu.:140.0   1st Qu.: 0.000  \n",
       " Median :2.000   Median :1.0000   Median :190.0   Median : 1.500  \n",
       " Mean   :2.462   Mean   :0.9385   Mean   :175.4   Mean   : 2.185  \n",
       " 3rd Qu.:3.000   3rd Qu.:1.0000   3rd Qu.:220.0   3rd Qu.: 3.000  \n",
       " Max.   :6.000   Max.   :3.0000   Max.   :320.0   Max.   :14.000  \n",
       "     carbo           sugars       shelf      potass          vitamins     \n",
       " Min.   : 5.00   Min.   : 0.000   1:18   Min.   : 15.00   Min.   :  0.00  \n",
       " 1st Qu.:12.00   1st Qu.: 3.000   2:18   1st Qu.: 40.00   1st Qu.: 25.00  \n",
       " Median :14.00   Median : 7.000   3:29   Median : 90.00   Median : 25.00  \n",
       " Mean   :14.74   Mean   : 7.385          Mean   : 97.46   Mean   : 29.62  \n",
       " 3rd Qu.:17.00   3rd Qu.:11.000          3rd Qu.:120.00   3rd Qu.: 25.00  \n",
       " Max.   :23.00   Max.   :15.000          Max.   :330.00   Max.   :100.00  \n",
       "     weight           cups           shelfC  \n",
       " Min.   :0.500   Min.   :0.2500   high  :29  \n",
       " 1st Qu.:1.000   1st Qu.:0.6700   low   :18  \n",
       " Median :1.000   Median :0.7500   medium:18  \n",
       " Mean   :1.045   Mean   :0.7969              \n",
       " 3rd Qu.:1.000   3rd Qu.:1.0000              \n",
       " Max.   :1.500   Max.   :1.5000              "
      ]
     },
     "metadata": {},
     "output_type": "display_data"
    }
   ],
   "source": [
    "# Basic statistical summary of the data set\n",
    "summary(cereals)"
   ]
  },
  {
   "cell_type": "code",
   "execution_count": 48,
   "metadata": {},
   "outputs": [],
   "source": [
    "# defining a function to calculate coefficient of variation:\n",
    "cv = function(x) {\n",
    "  sd = sqrt(var(x))\n",
    "  mu = abs(mean(x))\n",
    "  sd / mu\n",
    "}"
   ]
  },
  {
   "cell_type": "code",
   "execution_count": 49,
   "metadata": {},
   "outputs": [
    {
     "data": {
      "text/html": [
       "<style>\n",
       ".dl-inline {width: auto; margin:0; padding: 0}\n",
       ".dl-inline>dt, .dl-inline>dd {float: none; width: auto; display: inline-block}\n",
       ".dl-inline>dt::after {content: \":\\0020\"; padding-right: .5ex}\n",
       ".dl-inline>dt:not(:first-of-type) {padding-left: .5ex}\n",
       "</style><dl class=dl-inline><dt>sodium</dt><dd>0.428678816381526</dd><dt>fiber</dt><dd>1.1695296780008</dd><dt>carbo</dt><dd>0.270277154639366</dd><dt>sugars</dt><dd>0.586709560791333</dd></dl>\n"
      ],
      "text/latex": [
       "\\begin{description*}\n",
       "\\item[sodium] 0.428678816381526\n",
       "\\item[fiber] 1.1695296780008\n",
       "\\item[carbo] 0.270277154639366\n",
       "\\item[sugars] 0.586709560791333\n",
       "\\end{description*}\n"
      ],
      "text/markdown": [
       "sodium\n",
       ":   0.428678816381526fiber\n",
       ":   1.1695296780008carbo\n",
       ":   0.270277154639366sugars\n",
       ":   0.586709560791333\n",
       "\n"
      ],
      "text/plain": [
       "   sodium     fiber     carbo    sugars \n",
       "0.4286788 1.1695297 0.2702772 0.5867096 "
      ]
     },
     "metadata": {},
     "output_type": "display_data"
    }
   ],
   "source": [
    "# using it\n",
    "apply(cereals[, 7:10], 2, cv)"
   ]
  },
  {
   "cell_type": "code",
   "execution_count": 50,
   "metadata": {},
   "outputs": [],
   "source": [
    "#other function\n",
    "cereal_stats = data.frame(\n",
    "  cv = apply(cereals[, c(4:10, 12:15)], 2, cv),\n",
    "  kurtosis = apply(cereals[, c(4:10, 12:15)], 2, kurtosis),\n",
    "  skew = apply(cereals[, c(4:10, 12:15)], 2, skewness)\n",
    ")"
   ]
  },
  {
   "cell_type": "code",
   "execution_count": 51,
   "metadata": {},
   "outputs": [
    {
     "name": "stdout",
     "output_type": "stream",
     "text": [
      "                cv kurtosis        skew\n",
      "calories 0.1656678 6.005008 -0.62341330\n",
      "protein  0.4431485 4.526630  0.82696035\n",
      "fat      0.9009638 2.685449  0.58514557\n",
      "sodium   0.4286788 3.363517 -0.71731751\n",
      "fiber    1.1695297 9.802591  2.27434460\n",
      "carbo    0.2702772 2.575780  0.20539196\n",
      "sugars   0.5867096 1.817431  0.01802315\n",
      "potass   0.7599692 4.557778  1.39032104\n",
      "vitamins 0.7139905 9.926056  2.76463813\n",
      "weight   0.1402434 7.373096  0.84731167\n",
      "cups     0.3029334 3.285915  0.13353101\n"
     ]
    }
   ],
   "source": [
    "#using it\n",
    "print(cereal_stats)"
   ]
  },
  {
   "cell_type": "code",
   "execution_count": 52,
   "metadata": {},
   "outputs": [
    {
     "name": "stderr",
     "output_type": "stream",
     "text": [
      "`summarise()` ungrouping output (override with `.groups` argument)\n",
      "\n"
     ]
    },
    {
     "data": {
      "text/html": [
       "<table class=\"dataframe\">\n",
       "<caption>A tibble: 6 × 3</caption>\n",
       "<thead>\n",
       "\t<tr><th scope=col>mfr</th><th scope=col>mean(sugars)</th><th scope=col>sd(sugars)</th></tr>\n",
       "\t<tr><th scope=col>&lt;chr&gt;</th><th scope=col>&lt;dbl&gt;</th><th scope=col>&lt;dbl&gt;</th></tr>\n",
       "</thead>\n",
       "<tbody>\n",
       "\t<tr><td>G</td><td>7.954545</td><td>3.872704</td></tr>\n",
       "\t<tr><td>K</td><td>7.904762</td><td>4.526641</td></tr>\n",
       "\t<tr><td>N</td><td>2.000000</td><td>3.464102</td></tr>\n",
       "\t<tr><td>P</td><td>8.777778</td><td>4.576510</td></tr>\n",
       "\t<tr><td>Q</td><td>7.000000</td><td>4.795832</td></tr>\n",
       "\t<tr><td>R</td><td>3.800000</td><td>1.643168</td></tr>\n",
       "</tbody>\n",
       "</table>\n"
      ],
      "text/latex": [
       "A tibble: 6 × 3\n",
       "\\begin{tabular}{lll}\n",
       " mfr & mean(sugars) & sd(sugars)\\\\\n",
       " <chr> & <dbl> & <dbl>\\\\\n",
       "\\hline\n",
       "\t G & 7.954545 & 3.872704\\\\\n",
       "\t K & 7.904762 & 4.526641\\\\\n",
       "\t N & 2.000000 & 3.464102\\\\\n",
       "\t P & 8.777778 & 4.576510\\\\\n",
       "\t Q & 7.000000 & 4.795832\\\\\n",
       "\t R & 3.800000 & 1.643168\\\\\n",
       "\\end{tabular}\n"
      ],
      "text/markdown": [
       "\n",
       "A tibble: 6 × 3\n",
       "\n",
       "| mfr &lt;chr&gt; | mean(sugars) &lt;dbl&gt; | sd(sugars) &lt;dbl&gt; |\n",
       "|---|---|---|\n",
       "| G | 7.954545 | 3.872704 |\n",
       "| K | 7.904762 | 4.526641 |\n",
       "| N | 2.000000 | 3.464102 |\n",
       "| P | 8.777778 | 4.576510 |\n",
       "| Q | 7.000000 | 4.795832 |\n",
       "| R | 3.800000 | 1.643168 |\n",
       "\n"
      ],
      "text/plain": [
       "  mfr mean(sugars) sd(sugars)\n",
       "1 G   7.954545     3.872704  \n",
       "2 K   7.904762     4.526641  \n",
       "3 N   2.000000     3.464102  \n",
       "4 P   8.777778     4.576510  \n",
       "5 Q   7.000000     4.795832  \n",
       "6 R   3.800000     1.643168  "
      ]
     },
     "metadata": {},
     "output_type": "display_data"
    }
   ],
   "source": [
    "summarise(group_by(cereals, mfr), mean(sugars), sd(sugars))"
   ]
  },
  {
   "cell_type": "code",
   "execution_count": 53,
   "metadata": {},
   "outputs": [
    {
     "data": {
      "image/png": "[encoded data removed]",
      "text/plain": [
       "plot without title"
      ]
     },
     "metadata": {
      "image/png": {
       "height": 420,
       "width": 420
      }
     },
     "output_type": "display_data"
    }
   ],
   "source": [
    "# Basic plot: relationship between fiber and calories\n",
    "plot(cereals$fiber, cereals$calories)"
   ]
  },
  {
   "cell_type": "code",
   "execution_count": 54,
   "metadata": {},
   "outputs": [
    {
     "data": {
      "image/png": "[encoded data removed]",
      "text/plain": [
       "plot without title"
      ]
     },
     "metadata": {
      "image/png": {
       "height": 420,
       "width": 420
      }
     },
     "output_type": "display_data"
    }
   ],
   "source": [
    "# Basic plot: relationship between fat and calories\n",
    "plot(cereals$fat, cereals$calories)"
   ]
  },
  {
   "cell_type": "code",
   "execution_count": 55,
   "metadata": {},
   "outputs": [
    {
     "data": {
      "image/png": "[encoded data removed]",
      "text/plain": [
       "plot without title"
      ]
     },
     "metadata": {
      "image/png": {
       "height": 420,
       "width": 420
      }
     },
     "output_type": "display_data"
    }
   ],
   "source": [
    "plot(jitter(cereals$fat), jitter(cereals$calories))"
   ]
  },
  {
   "cell_type": "code",
   "execution_count": null,
   "metadata": {},
   "outputs": [],
   "source": []
  }
 ],
 "metadata": {
  "kernelspec": {
   "display_name": "R",
   "language": "R",
   "name": "ir"
  },
  "language_info": {
   "codemirror_mode": "r",
   "file_extension": ".r",
   "mimetype": "text/x-r-source",
   "name": "R",
   "pygments_lexer": "r",
   "version": "3.6.3"
  }
 },
 "nbformat": 4,
 "nbformat_minor": 4
}
